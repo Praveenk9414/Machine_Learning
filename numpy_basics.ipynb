{
 "cells": [
  {
   "cell_type": "code",
   "execution_count": 1,
   "id": "73df44ce-37d0-44da-8f50-2dad20fdea89",
   "metadata": {},
   "outputs": [],
   "source": [
    "import numpy as np"
   ]
  },
  {
   "cell_type": "code",
   "execution_count": 2,
   "id": "d3025e44-ffc7-4ce7-b724-e9c5e83b9152",
   "metadata": {},
   "outputs": [],
   "source": [
    "# Creating Array from list \n",
    "arr = np.array([1,2,3])\n",
    "\n",
    "    # using functions\n",
    "arr_zero = np.zeros((3,2)) \n",
    "arr_ones = np.ones((4,5)) \n",
    "arr_arange = np.arange(0,10,2)"
   ]
  },
  {
   "cell_type": "code",
   "execution_count": 3,
   "id": "23af2642-d5ed-4951-9cf1-d8f20df67954",
   "metadata": {},
   "outputs": [
    {
     "name": "stdout",
     "output_type": "stream",
     "text": [
      "[1 2 3]\n",
      "[[0. 0.]\n",
      " [0. 0.]\n",
      " [0. 0.]]\n",
      "[[1. 1. 1. 1. 1.]\n",
      " [1. 1. 1. 1. 1.]\n",
      " [1. 1. 1. 1. 1.]\n",
      " [1. 1. 1. 1. 1.]]\n",
      "[0 2 4 6 8]\n"
     ]
    }
   ],
   "source": [
    "print(arr)\n",
    "print(arr_zero)\n",
    "print(arr_ones)\n",
    "print(arr_arange)"
   ]
  },
  {
   "cell_type": "code",
   "execution_count": 4,
   "id": "765b6b0d-a8d8-4b55-a0fa-3d922e97272a",
   "metadata": {},
   "outputs": [
    {
     "name": "stdout",
     "output_type": "stream",
     "text": [
      "[5 7 9]\n",
      "[11 12 13]\n"
     ]
    }
   ],
   "source": [
    "# array operations\n",
    "    # element wise operation\n",
    "a = np.array([1,2,3])\n",
    "b = np.array([4,5,6])\n",
    "c = a+b\n",
    "\n",
    "    # broadcasting\n",
    "d = np.array([10])\n",
    "print(c)\n",
    "print(d+a)"
   ]
  },
  {
   "cell_type": "code",
   "execution_count": 5,
   "id": "46411252-6c1e-402b-847c-765c5ad6d5c3",
   "metadata": {},
   "outputs": [
    {
     "name": "stdout",
     "output_type": "stream",
     "text": [
      "10\n",
      "40\n",
      "[20 30]\n",
      "[3 6]\n"
     ]
    }
   ],
   "source": [
    "# indexing and slicing\n",
    "arr_1 = np.array([10,20,30,40])\n",
    "    # basic indexing\n",
    "print(arr_1[0])\n",
    "print(arr_1[-1])\n",
    "\n",
    "    # slicing \n",
    "print(arr_1[1:3])\n",
    "\n",
    "    # multi-dimensional indexing\n",
    "arr_2 = np.array([[1,2,3],[4,5,6]])\n",
    "print(arr_2[:2,2])"
   ]
  },
  {
   "cell_type": "code",
   "execution_count": 43,
   "id": "34f02e2c-499e-4bf6-b928-d25b549277d6",
   "metadata": {},
   "outputs": [
    {
     "name": "stdout",
     "output_type": "stream",
     "text": [
      "[[1 2]\n",
      " [3 4]\n",
      " [5 6]]\n",
      "[1 2 3 4 5 6]\n",
      "1\n",
      "2\n",
      "3\n",
      "4\n",
      "5\n",
      "6\n"
     ]
    }
   ],
   "source": [
    "# reshaping arrays\n",
    "arr_3 = np.array([[1,2,3],[4,5,6]])\n",
    "    # Reshape\n",
    "reshaped = np.reshape(arr_3, [3,2])\n",
    "    # Flatten\n",
    "flat = arr_3.flatten()\n",
    "print(reshaped)\n",
    "print(flat)\n",
    "\n",
    "# or\n",
    "\n",
    "arr_flat = arr_3.flat\n",
    "for i in arr_flat:\n",
    "    print(i)"
   ]
  },
  {
   "cell_type": "code",
   "execution_count": 45,
   "id": "0ca0574f-f101-411a-bd56-b2e8b7c69e50",
   "metadata": {},
   "outputs": [
    {
     "name": "stdout",
     "output_type": "stream",
     "text": [
      "[[1 2]\n",
      " [3 4]\n",
      " [5 6]]\n",
      "[1 2 3 4 5 6]\n"
     ]
    }
   ],
   "source": [
    "print(reshaped)\n",
    "print(flat)"
   ]
  },
  {
   "cell_type": "code",
   "execution_count": 47,
   "id": "24f7e5eb-e051-4885-a9e2-81f12d62b962",
   "metadata": {},
   "outputs": [],
   "source": [
    "# Aggression function\n",
    "    # sum, mean, max\n",
    "arr_4 = np.array([1, 2, 3, 4])\n",
    "total = arr_4.sum()\n",
    "maximum = arr_4.max()\n",
    "minimum = arr_4.min()\n",
    "\n",
    "    # axis-wise operations\n",
    "arr_5 = np.array([[1,3,5],[7,9,11]])\n",
    "col_sum = arr_5.sum(axis = 0)\n",
    "row_sum = arr_5.sum(axis = 1)"
   ]
  },
  {
   "cell_type": "code",
   "execution_count": 49,
   "id": "92bb35d2-8392-42da-83d7-76bd882c5473",
   "metadata": {},
   "outputs": [
    {
     "name": "stdout",
     "output_type": "stream",
     "text": [
      "10\n",
      "4\n",
      "1\n",
      "[ 8 12 16]\n",
      "[ 9 27]\n"
     ]
    }
   ],
   "source": [
    "print(total)\n",
    "print(maximum)\n",
    "print(minimum)\n",
    "\n",
    "print(col_sum)\n",
    "print(row_sum)"
   ]
  },
  {
   "cell_type": "code",
   "execution_count": 51,
   "id": "0a753691-85bf-4a79-aac1-bcb4ed27490d",
   "metadata": {},
   "outputs": [
    {
     "name": "stdout",
     "output_type": "stream",
     "text": [
      "[[19 22]\n",
      " [43 50]]\n",
      "[[1 2 3]\n",
      " [4 5 6]]\n",
      "[[1 4]\n",
      " [2 5]\n",
      " [3 6]]\n",
      "[[-0.2   0.1 ]\n",
      " [ 0.15 -0.05]]\n"
     ]
    }
   ],
   "source": [
    "# linear algebra\n",
    "    # dot product\n",
    "x = np.array([[1,2],[3,4]])\n",
    "y = np.array([[5,6],[7,8]])\n",
    "\n",
    "dot_product = np.dot(x,y)\n",
    "print(dot_product)\n",
    "\n",
    "    # transpose\n",
    "arr_6 = np.array([[1,2,3],[4,5,6]])\n",
    "print(arr_6)\n",
    "transposed = arr_6.T\n",
    "print(transposed)\n",
    "\n",
    "    # inverse\n",
    "    # imp -> matrix is square and has a non-zero determinant\n",
    "arr_7 = np.array([[10,20],[30,40]])\n",
    "inv = np.linalg.inv(arr_7)\n",
    "print(inv)"
   ]
  },
  {
   "cell_type": "code",
   "execution_count": 53,
   "id": "476de2ac-aa50-4a1b-b31d-34369b187e1b",
   "metadata": {},
   "outputs": [
    {
     "name": "stdout",
     "output_type": "stream",
     "text": [
      "[[0.55166587 0.63824731 0.56079865]\n",
      " [0.83292471 0.77790055 0.81278618]\n",
      " [0.02954123 0.92638445 0.90777249]]\n",
      "[[3 8 9]\n",
      " [1 8 7]\n",
      " [7 6 1]]\n",
      "[4 5 2 3 1]\n"
     ]
    }
   ],
   "source": [
    "# Random number generation\n",
    "    # random number\n",
    "rand_arr = np.random.rand(3,3) # 3x3 matrix of random numbers\n",
    "rand_int = np.random.randint(0,10, size = (3,3))  # 3x3 matrix of random integers between 0 and 10\n",
    "print(rand_arr)\n",
    "print(rand_int)\n",
    "\n",
    "    # shuffling\n",
    "arr_8 = np.array([1,2,3,4,5])\n",
    "np.random.shuffle(arr_8)\n",
    "print(arr_8)"
   ]
  },
  {
   "cell_type": "code",
   "execution_count": 55,
   "id": "c649f0b1-548f-44e5-8740-8ba12784e811",
   "metadata": {},
   "outputs": [
    {
     "name": "stdout",
     "output_type": "stream",
     "text": [
      "[ 0  1  2  3  4  5  6  7  8  9 10 11 12 13 14]\n"
     ]
    }
   ],
   "source": [
    "arr_7 = np.arange(15)\n",
    "print(arr_7)"
   ]
  },
  {
   "cell_type": "code",
   "execution_count": 57,
   "id": "9e2d58c3-a932-4e72-9e2c-6b3feda149bb",
   "metadata": {},
   "outputs": [
    {
     "name": "stdout",
     "output_type": "stream",
     "text": [
      "[1.         1.44444444 1.88888889 2.33333333 2.77777778 3.22222222\n",
      " 3.66666667 4.11111111 4.55555556 5.        ]\n"
     ]
    }
   ],
   "source": [
    "lspace_arr = np.linspace(1,5,10)\n",
    "print(lspace_arr)   # will provide a list of equal diff b/w 1 and 5 and total 10 elements"
   ]
  },
  {
   "cell_type": "code",
   "execution_count": 63,
   "id": "73e9bd62-3279-46aa-ae42-deeb9247beb1",
   "metadata": {},
   "outputs": [
    {
     "data": {
      "text/plain": [
       "120"
      ]
     },
     "execution_count": 63,
     "metadata": {},
     "output_type": "execute_result"
    }
   ],
   "source": [
    "arr_7.nbytes"
   ]
  },
  {
   "cell_type": "code",
   "execution_count": 95,
   "id": "65949620-13f1-4e58-90e0-d9fdab839bee",
   "metadata": {},
   "outputs": [
    {
     "name": "stdout",
     "output_type": "stream",
     "text": [
      "4\n",
      "5\n",
      "[5 1 0 2 3 4]\n"
     ]
    }
   ],
   "source": [
    "# argmax    ]\n",
    "# argmin    ]  provide the index of the specific things\n",
    "# argsort   ]\n",
    "arr = np.array([5,3,5,6,9,0])\n",
    "print(arr.argmax())\n",
    "print(arr.argmin())\n",
    "print(arr.argsort())"
   ]
  },
  {
   "cell_type": "code",
   "execution_count": 97,
   "id": "f5d877be-2cfe-43af-b82d-413ca696cd80",
   "metadata": {},
   "outputs": [
    {
     "data": {
      "text/plain": [
       "(array([0, 2, 3, 4]),)"
      ]
     },
     "execution_count": 97,
     "metadata": {},
     "output_type": "execute_result"
    }
   ],
   "source": [
    "np.where(arr>4)"
   ]
  },
  {
   "cell_type": "code",
   "execution_count": 99,
   "id": "9eb7e0d7-b5dc-45b6-bbf4-28e16818b609",
   "metadata": {},
   "outputs": [
    {
     "data": {
      "text/plain": [
       "5"
      ]
     },
     "execution_count": 99,
     "metadata": {},
     "output_type": "execute_result"
    }
   ],
   "source": [
    "np.count_nonzero(arr)"
   ]
  },
  {
   "cell_type": "code",
   "execution_count": 101,
   "id": "aaa40da6-8aff-445d-b6e6-9fe3f42a89be",
   "metadata": {},
   "outputs": [
    {
     "data": {
      "text/plain": [
       "(array([0, 1, 2, 3, 4]),)"
      ]
     },
     "execution_count": 101,
     "metadata": {},
     "output_type": "execute_result"
    }
   ],
   "source": [
    "np.nonzero(arr)"
   ]
  },
  {
   "cell_type": "code",
   "execution_count": 103,
   "id": "0e3e9e9e-88a9-4698-ae70-c5ce1eba8036",
   "metadata": {},
   "outputs": [],
   "source": [
    "import sys"
   ]
  },
  {
   "cell_type": "code",
   "execution_count": 127,
   "id": "c501edff-188d-4e3f-ae52-39f31330062a",
   "metadata": {},
   "outputs": [
    {
     "name": "stdout",
     "output_type": "stream",
     "text": [
      "Size of numpy array :  40\n",
      "Size of python array :  140\n"
     ]
    }
   ],
   "source": [
    "py_arr = [4,3,66,3,2]\n",
    "np_arr = np.array(py_arr)\n",
    "print(\"Size of numpy array : \", np_arr.itemsize * np_arr.size)\n",
    "print(\"Size of python array : \", sys.getsizeof(1) * len(py_arr))"
   ]
  },
  {
   "cell_type": "code",
   "execution_count": null,
   "id": "55ac21d4-7784-45d5-aad3-4372932c2191",
   "metadata": {},
   "outputs": [],
   "source": []
  }
 ],
 "metadata": {
  "kernelspec": {
   "display_name": "Python 3 (ipykernel)",
   "language": "python",
   "name": "python3"
  },
  "language_info": {
   "codemirror_mode": {
    "name": "ipython",
    "version": 3
   },
   "file_extension": ".py",
   "mimetype": "text/x-python",
   "name": "python",
   "nbconvert_exporter": "python",
   "pygments_lexer": "ipython3",
   "version": "3.10.13"
  }
 },
 "nbformat": 4,
 "nbformat_minor": 5
}
