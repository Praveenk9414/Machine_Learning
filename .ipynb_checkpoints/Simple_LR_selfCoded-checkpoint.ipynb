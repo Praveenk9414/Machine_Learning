{
 "cells": [
  {
   "cell_type": "code",
   "execution_count": 1,
   "id": "a5f53783-520f-4ddf-85ab-5f18be63e2c3",
   "metadata": {},
   "outputs": [],
   "source": [
    "class MyLR:\n",
    "    def __init__(self):\n",
    "        self.m = None\n",
    "        self.b = None\n",
    "    def fit(self, X_train, Y_train):\n",
    "        # x_mean = X_train.mean()\n",
    "        # y_mean = Y_train.mean()\n",
    "        for i in range(len(X_train)):\n",
    "            num = 0 #num -> numerator\n",
    "            den = 0 #den -> denomenator\n",
    "            num = num + ((X_train[i] - X_train.mean())*(Y_train[i] - Y_train.mean()))\n",
    "            den = den + ((X_train[i] - X_train.mean()) * (X_train[i] - X_train.mean()))\n",
    "        self.m = num/den\n",
    "        self.b = Y_train.mean() - self.m*(X_train.mean())\n",
    "    def predict(self, X_predict):\n",
    "        y = (m*X_predict) + b\n",
    "        return y"
   ]
  },
  {
   "cell_type": "code",
   "execution_count": 2,
   "id": "61825a04-00e5-43bb-bada-566537fa773b",
   "metadata": {},
   "outputs": [],
   "source": [
    "import numpy as np\n",
    "import pandas as pd\n",
    "import matplotlib.pyplot as plt"
   ]
  },
  {
   "cell_type": "code",
   "execution_count": 3,
   "id": "785507fd-bf1d-4a02-bc2e-b57441fbabe7",
   "metadata": {},
   "outputs": [],
   "source": [
    "df = pd.read_csv('placement.csv')"
   ]
  },
  {
   "cell_type": "code",
   "execution_count": 4,
   "id": "7f5a45a6-e045-412b-81d4-d61b2c026794",
   "metadata": {},
   "outputs": [
    {
     "data": {
      "text/html": [
       "<div>\n",
       "<style scoped>\n",
       "    .dataframe tbody tr th:only-of-type {\n",
       "        vertical-align: middle;\n",
       "    }\n",
       "\n",
       "    .dataframe tbody tr th {\n",
       "        vertical-align: top;\n",
       "    }\n",
       "\n",
       "    .dataframe thead th {\n",
       "        text-align: right;\n",
       "    }\n",
       "</style>\n",
       "<table border=\"1\" class=\"dataframe\">\n",
       "  <thead>\n",
       "    <tr style=\"text-align: right;\">\n",
       "      <th></th>\n",
       "      <th>cgpa</th>\n",
       "      <th>package</th>\n",
       "    </tr>\n",
       "  </thead>\n",
       "  <tbody>\n",
       "    <tr>\n",
       "      <th>0</th>\n",
       "      <td>6.89</td>\n",
       "      <td>3.26</td>\n",
       "    </tr>\n",
       "    <tr>\n",
       "      <th>1</th>\n",
       "      <td>5.12</td>\n",
       "      <td>1.98</td>\n",
       "    </tr>\n",
       "    <tr>\n",
       "      <th>2</th>\n",
       "      <td>7.82</td>\n",
       "      <td>3.25</td>\n",
       "    </tr>\n",
       "    <tr>\n",
       "      <th>3</th>\n",
       "      <td>7.42</td>\n",
       "      <td>3.67</td>\n",
       "    </tr>\n",
       "    <tr>\n",
       "      <th>4</th>\n",
       "      <td>6.94</td>\n",
       "      <td>3.57</td>\n",
       "    </tr>\n",
       "  </tbody>\n",
       "</table>\n",
       "</div>"
      ],
      "text/plain": [
       "   cgpa  package\n",
       "0  6.89     3.26\n",
       "1  5.12     1.98\n",
       "2  7.82     3.25\n",
       "3  7.42     3.67\n",
       "4  6.94     3.57"
      ]
     },
     "execution_count": 4,
     "metadata": {},
     "output_type": "execute_result"
    }
   ],
   "source": [
    "df.head()"
   ]
  },
  {
   "cell_type": "code",
   "execution_count": 5,
   "id": "63094d03-71dc-4150-a7e2-9f03f1e724be",
   "metadata": {},
   "outputs": [
    {
     "name": "stdout",
     "output_type": "stream",
     "text": [
      "[6.89 5.12 7.82 7.42 6.94 7.89 6.73 6.75 6.09 8.31 5.32 6.61 8.94 6.93\n",
      " 7.73 7.25 6.84 5.38 6.94 7.48 7.28 6.85 6.14 6.19 6.53 7.28 8.31 5.42\n",
      " 5.94 7.15 7.36 8.1  6.96 6.35 7.34 6.87 5.99 5.9  8.62 7.43 9.38 6.89\n",
      " 5.95 7.66 5.09 7.87 6.07 5.84 8.63 8.87 9.58 9.26 8.37 6.47 6.86 8.2\n",
      " 5.84 6.6  6.92 7.56 5.61 5.48 6.34 9.16 7.36 7.6  5.11 6.51 7.56 7.3\n",
      " 5.79 7.47 7.78 8.44 6.85 6.97 6.94 8.99 6.59 7.18 7.63 6.1  5.58 8.44\n",
      " 4.26 4.79 7.61 8.09 4.73 6.42 7.11 6.22 7.9  6.79 5.83 6.63 7.11 5.98\n",
      " 7.69 6.61 7.95 6.71 5.13 7.05 7.62 6.66 6.13 6.33 7.76 7.77 8.18 5.42\n",
      " 8.58 6.94 5.84 8.35 9.04 7.12 7.4  7.39 5.23 6.5  5.12 5.1  6.06 7.33\n",
      " 5.91 6.78 7.93 7.29 6.68 6.37 5.84 6.05 7.2  6.1  5.64 7.14 7.91 7.19\n",
      " 7.91 6.76 6.93 4.85 6.17 5.84 6.07 5.66 7.57 8.28 6.3  6.12 7.37 7.94\n",
      " 7.08 6.98 7.38 6.47 5.95 8.71 7.13 7.3  5.53 8.93 9.06 8.21 8.6  8.13\n",
      " 8.65 9.31 6.22 8.01 6.93 6.75 7.32 7.04 6.29 7.09 8.15 7.14 6.19 8.22\n",
      " 5.88 7.28 7.88 6.31 7.84 6.26 7.35 8.11 6.19 7.28 8.25 4.57 7.89 6.93\n",
      " 5.89 7.21 7.63 6.22]\n"
     ]
    },
    {
     "data": {
      "text/plain": [
       "6.990500000000001"
      ]
     },
     "execution_count": 5,
     "metadata": {},
     "output_type": "execute_result"
    }
   ],
   "source": [
    "X = df.iloc[:,0].values\n",
    "Y = df.iloc[:,1].values\n",
    "print(X)\n",
    "X.mean()"
   ]
  },
  {
   "cell_type": "code",
   "execution_count": 6,
   "id": "8eef51d9-38f6-44d6-891f-b79925c8e56c",
   "metadata": {},
   "outputs": [
    {
     "name": "stdout",
     "output_type": "stream",
     "text": [
      "[7.14 8.93 5.42 5.1  7.77 6.76 6.89 6.68 7.91 7.89 8.71 7.95 6.61 6.26\n",
      " 6.53 6.42 5.11 6.09 6.93 7.04 5.94 6.05 5.83 5.95 9.31 5.58 7.88 6.13\n",
      " 7.76 4.85 6.19 8.6  6.07 7.18 5.12 7.39 8.25 8.28 7.13 7.35 5.66 5.99\n",
      " 8.01 7.14 6.34 6.89 5.42 6.47 7.69 7.4  7.28 5.95 7.38 6.93 8.99 7.36\n",
      " 7.08 5.38 7.56 8.22 5.84 6.78 7.19 7.28 6.79 6.12 6.85 8.2  6.84 7.37\n",
      " 6.22 6.61 5.23 7.21 6.85 6.19 7.3  6.17 5.89 8.09 7.11 4.26 6.94 5.98\n",
      " 6.71 7.33 9.06 6.1  5.48 6.1  7.56 7.29 5.84 7.48 7.61 5.79 5.61 7.34\n",
      " 9.38 7.91 6.94 7.94 8.31 6.96 6.93 7.11 8.44 8.18 6.66 8.44 7.12 6.3\n",
      " 5.84 6.98 7.63 5.64 7.43 8.87 7.84 5.84 9.58 8.37 7.63 6.31 6.5  8.11\n",
      " 6.07 4.73 7.3  6.51 7.28 6.92 6.35 8.62 7.05 9.26 6.33 6.22 6.94 5.13\n",
      " 8.13 5.9  9.04 6.06 7.57 8.1  9.16 5.84 7.89 6.63 7.09 5.53 6.75 7.62\n",
      " 6.97 7.66 6.14 7.78 7.25 8.65]\n"
     ]
    },
    {
     "data": {
      "text/plain": [
       "(160,)"
      ]
     },
     "execution_count": 6,
     "metadata": {},
     "output_type": "execute_result"
    }
   ],
   "source": [
    "from sklearn.model_selection import train_test_split\n",
    "X_train, Y_train, X_test, Y_test = train_test_split(X, Y, test_size = 0.2, random_state = 2)\n",
    "print(X_train)\n",
    "X_train.shape"
   ]
  },
  {
   "cell_type": "code",
   "execution_count": 7,
   "id": "21c93a5e-a755-4805-adce-d7271d08e66f",
   "metadata": {},
   "outputs": [
    {
     "ename": "IndexError",
     "evalue": "index 40 is out of bounds for axis 0 with size 40",
     "output_type": "error",
     "traceback": [
      "\u001b[0;31m---------------------------------------------------------------------------\u001b[0m",
      "\u001b[0;31mIndexError\u001b[0m                                Traceback (most recent call last)",
      "Cell \u001b[0;32mIn[7], line 3\u001b[0m\n\u001b[1;32m      1\u001b[0m reg \u001b[38;5;241m=\u001b[39m MyLR()\n\u001b[1;32m      2\u001b[0m \u001b[38;5;66;03m# reg.fit(df.cgpa, df.package)\u001b[39;00m\n\u001b[0;32m----> 3\u001b[0m \u001b[43mreg\u001b[49m\u001b[38;5;241;43m.\u001b[39;49m\u001b[43mfit\u001b[49m\u001b[43m(\u001b[49m\u001b[43mX_train\u001b[49m\u001b[43m,\u001b[49m\u001b[43m \u001b[49m\u001b[43mY_train\u001b[49m\u001b[43m)\u001b[49m\n",
      "Cell \u001b[0;32mIn[1], line 11\u001b[0m, in \u001b[0;36mMyLR.fit\u001b[0;34m(self, X_train, Y_train)\u001b[0m\n\u001b[1;32m      9\u001b[0m     num \u001b[38;5;241m=\u001b[39m \u001b[38;5;241m0\u001b[39m \u001b[38;5;66;03m#num -> numerator\u001b[39;00m\n\u001b[1;32m     10\u001b[0m     den \u001b[38;5;241m=\u001b[39m \u001b[38;5;241m0\u001b[39m \u001b[38;5;66;03m#den -> denomenator\u001b[39;00m\n\u001b[0;32m---> 11\u001b[0m     num \u001b[38;5;241m=\u001b[39m num \u001b[38;5;241m+\u001b[39m ((X_train[i] \u001b[38;5;241m-\u001b[39m X_train\u001b[38;5;241m.\u001b[39mmean())\u001b[38;5;241m*\u001b[39m(\u001b[43mY_train\u001b[49m\u001b[43m[\u001b[49m\u001b[43mi\u001b[49m\u001b[43m]\u001b[49m \u001b[38;5;241m-\u001b[39m Y_train\u001b[38;5;241m.\u001b[39mmean()))\n\u001b[1;32m     12\u001b[0m     den \u001b[38;5;241m=\u001b[39m den \u001b[38;5;241m+\u001b[39m ((X_train[i] \u001b[38;5;241m-\u001b[39m X_train\u001b[38;5;241m.\u001b[39mmean()) \u001b[38;5;241m*\u001b[39m (X_train[i] \u001b[38;5;241m-\u001b[39m X_train\u001b[38;5;241m.\u001b[39mmean()))\n\u001b[1;32m     13\u001b[0m \u001b[38;5;28mself\u001b[39m\u001b[38;5;241m.\u001b[39mm \u001b[38;5;241m=\u001b[39m num\u001b[38;5;241m/\u001b[39mden\n",
      "\u001b[0;31mIndexError\u001b[0m: index 40 is out of bounds for axis 0 with size 40"
     ]
    }
   ],
   "source": [
    "reg = MyLR()\n",
    "# reg.fit(df.cgpa, df.package)\n",
    "reg.fit(X_train, Y_train)"
   ]
  },
  {
   "cell_type": "code",
   "execution_count": null,
   "id": "88011110-972a-4180-8087-0e9fc9dd3839",
   "metadata": {},
   "outputs": [],
   "source": []
  },
  {
   "cell_type": "code",
   "execution_count": null,
   "id": "63dae1dc-a675-4e2e-ba0a-09cfe5829d7a",
   "metadata": {},
   "outputs": [],
   "source": [
    "np.array(df['cgpa'])"
   ]
  },
  {
   "cell_type": "code",
   "execution_count": null,
   "id": "c651431a-c1a8-4867-af40-74d1bd0b61f6",
   "metadata": {},
   "outputs": [],
   "source": [
    "type(df.cgpa)"
   ]
  },
  {
   "cell_type": "code",
   "execution_count": null,
   "id": "93cc953d-0e65-4ecd-8074-5cfb7a6b8c71",
   "metadata": {},
   "outputs": [],
   "source": [
    "type(df['cgpa'])"
   ]
  },
  {
   "cell_type": "code",
   "execution_count": null,
   "id": "634fc108-8732-4f46-a0e5-402114348ff1",
   "metadata": {},
   "outputs": [],
   "source": [
    "pow(2,3)"
   ]
  },
  {
   "cell_type": "code",
   "execution_count": null,
   "id": "f62342ad-ea9f-4f84-ada1-1cd4cbd6d96b",
   "metadata": {},
   "outputs": [],
   "source": []
  }
 ],
 "metadata": {
  "kernelspec": {
   "display_name": "Python 3 (ipykernel)",
   "language": "python",
   "name": "python3"
  },
  "language_info": {
   "codemirror_mode": {
    "name": "ipython",
    "version": 3
   },
   "file_extension": ".py",
   "mimetype": "text/x-python",
   "name": "python",
   "nbconvert_exporter": "python",
   "pygments_lexer": "ipython3",
   "version": "3.10.13"
  }
 },
 "nbformat": 4,
 "nbformat_minor": 5
}
