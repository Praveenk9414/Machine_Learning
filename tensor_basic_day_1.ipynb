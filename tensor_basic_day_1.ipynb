{
 "cells": [
  {
   "cell_type": "code",
   "execution_count": 1,
   "id": "f353b8a0-7f55-42e5-8a91-77867f146e7b",
   "metadata": {
    "editable": true,
    "slideshow": {
     "slide_type": ""
    },
    "tags": []
   },
   "outputs": [],
   "source": [
    "import tensorflow as tf"
   ]
  },
  {
   "cell_type": "code",
   "execution_count": 2,
   "id": "d3c01c88-5bce-4fe4-90e7-0c14b6936a49",
   "metadata": {},
   "outputs": [
    {
     "name": "stdout",
     "output_type": "stream",
     "text": [
      "tf.Tensor([1 2 3], shape=(3,), dtype=int32)\n",
      "tf.Tensor(\n",
      "[[2. 3. 4.]\n",
      " [5. 6. 7.]], shape=(2, 3), dtype=float32)\n",
      "tf.Tensor(\n",
      "[[[ 1  2]\n",
      "  [ 3  4]]\n",
      "\n",
      " [[ 5  6]\n",
      "  [ 7  8]]\n",
      "\n",
      " [[ 9 10]\n",
      "  [11 12]]], shape=(3, 2, 2), dtype=int64)\n",
      "tf.Tensor(\n",
      "[[[[ 1  2]\n",
      "   [ 3  4]]\n",
      "\n",
      "  [[ 5  6]\n",
      "   [ 7  8]]\n",
      "\n",
      "  [[ 9 10]\n",
      "   [11 12]]]\n",
      "\n",
      "\n",
      " [[[ 1  2]\n",
      "   [ 3  4]]\n",
      "\n",
      "  [[ 5  6]\n",
      "   [ 7  8]]\n",
      "\n",
      "  [[ 9 10]\n",
      "   [11 12]]]\n",
      "\n",
      "\n",
      " [[[ 1  2]\n",
      "   [ 3  4]]\n",
      "\n",
      "  [[ 5  6]\n",
      "   [ 7  8]]\n",
      "\n",
      "  [[ 9 10]\n",
      "   [11 12]]]], shape=(3, 3, 2, 2), dtype=int32)\n"
     ]
    }
   ],
   "source": [
    "# 1-D , 2-D , 3-D , 4-D tensors\n",
    "\n",
    "# tf.constant(\n",
    "#     value, dtype=None, shape=None, name=&#x27;Const'\n",
    "# ) -> Union[tf.Operation, ops._EagerTensorBase]\n",
    "\n",
    "tensor_one_d = tf.constant([1,2,3], dtype = tf.int32)  # shape -> (3,)\n",
    "print(tensor_one_d)\n",
    "\n",
    "tensor_two_d = tf.constant([[2,3,4],[5,6,7]], dtype = tf.float32)   # shape -> (2,3)\n",
    "print(tensor_two_d)\n",
    "\n",
    "tensor_three_d = tf.constant([\n",
    "    [[1,2],[3,4]],\n",
    "    [[5,6],[7,8]],\n",
    "    [[9,10],[11,12]],\n",
    "], dtype = tf.int64)    # shape -> (3,2,2)\n",
    "print(tensor_three_d)\n",
    "\n",
    "tensor_four_d = tf.constant([    \n",
    "[[[1,2],[3,4]],\n",
    "    [[5,6],[7,8]],\n",
    "    [[9,10],[11,12]]],\n",
    "[[[1,2],[3,4]],\n",
    "    [[5,6],[7,8]],\n",
    "    [[9,10],[11,12]]],\n",
    "[[[1,2],[3,4]],\n",
    "    [[5,6],[7,8]],\n",
    "    [[9,10],[11,12]]],\n",
    "], dtype = tf.int32)    # shape -> (3,3,2,2)\n",
    "print(tensor_four_d)"
   ]
  },
  {
   "cell_type": "code",
   "execution_count": 3,
   "id": "71a768c7-d7f0-4612-82db-623f3389039c",
   "metadata": {},
   "outputs": [
    {
     "data": {
      "text/plain": [
       "<tf.Tensor: shape=(2, 3), dtype=int32, numpy=\n",
       "array([[0, 0, 0],\n",
       "       [0, 0, 0]], dtype=int32)>"
      ]
     },
     "execution_count": 3,
     "metadata": {},
     "output_type": "execute_result"
    }
   ],
   "source": [
    "tf.constant(0, shape=(2,3))"
   ]
  },
  {
   "cell_type": "code",
   "execution_count": 4,
   "id": "51f82b63-9109-4489-9d33-1b9505853ed5",
   "metadata": {},
   "outputs": [
    {
     "data": {
      "text/plain": [
       "<tf.Tensor: shape=(3, 2), dtype=int32, numpy=\n",
       "array([[1, 2],\n",
       "       [3, 4],\n",
       "       [5, 6]], dtype=int32)>"
      ]
     },
     "execution_count": 4,
     "metadata": {},
     "output_type": "execute_result"
    }
   ],
   "source": [
    "tf.constant([1,2,3,4,5,6], shape=(3,2))"
   ]
  },
  {
   "cell_type": "code",
   "execution_count": 5,
   "id": "8507a224-742f-4766-b885-005729ee27f5",
   "metadata": {},
   "outputs": [
    {
     "name": "stdout",
     "output_type": "stream",
     "text": [
      "(3,)\n",
      "3\n"
     ]
    }
   ],
   "source": [
    "print(tensor_one_d.shape)\n",
    "print(tensor_three_d.ndim)"
   ]
  },
  {
   "cell_type": "markdown",
   "id": "4f886df4-7f8f-4fe0-9132-c5310c473ff0",
   "metadata": {},
   "source": [
    "tensor_2 = tf.constant([[1,2,3],[4,5.,6]], dtype = int32)\n",
    "This shows an error we cant directly assign floating constant int type --> we use casting ->"
   ]
  },
  {
   "cell_type": "code",
   "execution_count": 6,
   "id": "5b1ec7fe-3cec-4e87-8d62-e49206253f4d",
   "metadata": {},
   "outputs": [
    {
     "name": "stdout",
     "output_type": "stream",
     "text": [
      "tf.Tensor([1. 2. 0. 4. 5.], shape=(5,), dtype=float32)\n",
      "tf.Tensor([1 2 0 4 5], shape=(5,), dtype=int64)\n",
      "tf.Tensor([ True  True False  True  True], shape=(5,), dtype=bool)\n"
     ]
    }
   ],
   "source": [
    "# so for above problem we would use casting method\n",
    "# tf.cast(\n",
    "#     x, dtype, name=None\n",
    "# )\n",
    "tensor_3 = tf.constant([1,2,0,4.,5])\n",
    "casted_tensor_3 = tf.cast(tensor_3, dtype = tf.int64)\n",
    "casted_tensor_3_1 = tf.cast(tensor_3,dtype = tf.bool)\n",
    "print(tensor_3)\n",
    "print(casted_tensor_3)\n",
    "print(casted_tensor_3_1)"
   ]
  },
  {
   "cell_type": "code",
   "execution_count": 7,
   "id": "9da42a5d-5e1f-4d1b-af6d-1a80d93dd695",
   "metadata": {},
   "outputs": [],
   "source": [
    "import numpy as np"
   ]
  },
  {
   "cell_type": "code",
   "execution_count": 8,
   "id": "dd78548c-68cf-4229-a1d9-46706f68bd92",
   "metadata": {},
   "outputs": [
    {
     "name": "stdout",
     "output_type": "stream",
     "text": [
      "[1 2 3]\n"
     ]
    }
   ],
   "source": [
    "np_arr = np.array([1,2,3])\n",
    "print(np_arr)"
   ]
  },
  {
   "cell_type": "code",
   "execution_count": 9,
   "id": "d77ceaf3-53f2-46ec-85ac-025a3ff7ddbe",
   "metadata": {},
   "outputs": [
    {
     "name": "stdout",
     "output_type": "stream",
     "text": [
      "tf.Tensor([1 2 3], shape=(3,), dtype=int64)\n"
     ]
    }
   ],
   "source": [
    "converted_tensor = tf.convert_to_tensor(np_arr)\n",
    "print(converted_tensor)"
   ]
  },
  {
   "cell_type": "code",
   "execution_count": 10,
   "id": "7e185b6c-4e82-4646-810d-e8217f85037d",
   "metadata": {},
   "outputs": [
    {
     "name": "stdout",
     "output_type": "stream",
     "text": [
      "tf.Tensor(\n",
      "[[[1 0 0 0]\n",
      "  [0 1 0 0]\n",
      "  [0 0 1 0]\n",
      "  [0 0 0 1]]\n",
      "\n",
      " [[1 0 0 0]\n",
      "  [0 1 0 0]\n",
      "  [0 0 1 0]\n",
      "  [0 0 0 1]]\n",
      "\n",
      " [[1 0 0 0]\n",
      "  [0 1 0 0]\n",
      "  [0 0 1 0]\n",
      "  [0 0 0 1]]], shape=(3, 4, 4), dtype=int32)\n",
      "tf.Tensor(\n",
      "[[[4 0 0 0]\n",
      "  [0 4 0 0]\n",
      "  [0 0 4 0]\n",
      "  [0 0 0 4]]\n",
      "\n",
      " [[4 0 0 0]\n",
      "  [0 4 0 0]\n",
      "  [0 0 4 0]\n",
      "  [0 0 0 4]]\n",
      "\n",
      " [[4 0 0 0]\n",
      "  [0 4 0 0]\n",
      "  [0 0 4 0]\n",
      "  [0 0 0 4]]], shape=(3, 4, 4), dtype=int32)\n"
     ]
    }
   ],
   "source": [
    "# Construct an identity matrix, or a batch of matrices.\n",
    "\n",
    "# tf.eye(    \n",
    "#     num_rows,\n",
    "#     num_columns=None,\n",
    "#     batch_shape=None,\n",
    "#     dtype=tf.dtypes.float32,\n",
    "#     name=None\n",
    "# )\n",
    "identity_tensor = tf.eye(\n",
    "    4,\n",
    "    num_columns=None,\n",
    "    batch_shape=[3,],\n",
    "    dtype=tf.dtypes.int32,\n",
    "    name=None\n",
    ")\n",
    "print(identity_tensor)\n",
    "print(4 * identity_tensor)"
   ]
  },
  {
   "cell_type": "code",
   "execution_count": 11,
   "id": "8f09952c-d867-4390-82b1-9182feed7964",
   "metadata": {},
   "outputs": [
    {
     "name": "stdout",
     "output_type": "stream",
     "text": [
      "tf.Tensor(\n",
      "[[2 2 2 2]\n",
      " [2 2 2 2]\n",
      " [2 2 2 2]], shape=(3, 4), dtype=int32)\n"
     ]
    }
   ],
   "source": [
    "# tf.fill(\n",
    "#     dims, value, name=None, layout=None\n",
    "# )\n",
    "\n",
    "fill_tensor = tf.fill([3,4], 2, name=None)\n",
    "print(fill_tensor)"
   ]
  },
  {
   "cell_type": "code",
   "execution_count": 12,
   "id": "3d27d7e4-4498-4f79-bc3a-2cb1c8609fb2",
   "metadata": {},
   "outputs": [
    {
     "data": {
      "text/plain": [
       "<tf.Tensor: shape=(3, 3), dtype=int32, numpy=\n",
       "array([[1, 1, 1],\n",
       "       [1, 1, 1],\n",
       "       [1, 1, 1]], dtype=int32)>"
      ]
     },
     "execution_count": 12,
     "metadata": {},
     "output_type": "execute_result"
    }
   ],
   "source": [
    "# tf.ones(\n",
    "#     shape,\n",
    "#     dtype=tf.dtypes.float32,\n",
    "#     name=None,\n",
    "#     layout=None\n",
    "# )\n",
    "tf.ones(\n",
    "    [3,3],\n",
    "    dtype=tf.dtypes.int32,\n",
    "    name = None\n",
    ")"
   ]
  },
  {
   "cell_type": "code",
   "execution_count": 13,
   "id": "b29596ba-f271-4148-aab8-b507f2cafb28",
   "metadata": {},
   "outputs": [
    {
     "data": {
      "text/plain": [
       "<tf.Tensor: shape=(2, 2), dtype=int32, numpy=\n",
       "array([[1, 1],\n",
       "       [1, 1]], dtype=int32)>"
      ]
     },
     "execution_count": 13,
     "metadata": {},
     "output_type": "execute_result"
    }
   ],
   "source": [
    "# tf.ones_like(\n",
    "#     input, dtype=None, name=None, layout=None\n",
    "# )\n",
    "one_like_tensor = tf.constant([[1,2],[3,4]])\n",
    "tf.ones_like(one_like_tensor)"
   ]
  },
  {
   "cell_type": "code",
   "execution_count": 14,
   "id": "fa6334d9-2af8-4125-9f4e-10e8b55b2614",
   "metadata": {},
   "outputs": [
    {
     "name": "stdout",
     "output_type": "stream",
     "text": [
      "tf.Tensor(\n",
      "[[0 0 0]\n",
      " [0 0 0]], shape=(2, 3), dtype=int32)\n"
     ]
    }
   ],
   "source": [
    "# tf.zeros(\n",
    "#     shape,\n",
    "#     dtype=tf.dtypes.float32,\n",
    "#     name=None,\n",
    "#     layout=None\n",
    "# )\n",
    "zero_tensor = tf.zeros([2,3], dtype=tf.dtypes.int32)\n",
    "print(zero_tensor)"
   ]
  },
  {
   "cell_type": "code",
   "execution_count": 15,
   "id": "d8032166-7851-4085-8c0f-88aa6b3df1b0",
   "metadata": {},
   "outputs": [
    {
     "name": "stdout",
     "output_type": "stream",
     "text": [
      "tf.Tensor(\n",
      "[[0 0 0]\n",
      " [0 0 0]\n",
      " [0 0 0]], shape=(3, 3), dtype=int32)\n"
     ]
    }
   ],
   "source": [
    "# tf.zeros_like(\n",
    "#     input, dtype=None, name=None, layout=None\n",
    "# )\n",
    "\n",
    "zero_like_tensor = tf.zeros_like([[4,5,6],[2,4,6],[8,6,5]], dtype=tf.dtypes.int32)\n",
    "print(zero_like_tensor)"
   ]
  },
  {
   "cell_type": "code",
   "execution_count": 16,
   "id": "3acfa16c-e8d4-461a-8fc8-0761901a3d3f",
   "metadata": {},
   "outputs": [
    {
     "data": {
      "text/plain": [
       "<tf.Tensor: shape=(2,), dtype=int32, numpy=array([3, 3], dtype=int32)>"
      ]
     },
     "execution_count": 16,
     "metadata": {},
     "output_type": "execute_result"
    }
   ],
   "source": [
    "tf.shape(zero_like_tensor)"
   ]
  },
  {
   "cell_type": "code",
   "execution_count": 17,
   "id": "e078f610-87e8-45c9-8475-4e8dc1564408",
   "metadata": {},
   "outputs": [
    {
     "data": {
      "text/plain": [
       "TensorShape([2, 3])"
      ]
     },
     "execution_count": 17,
     "metadata": {},
     "output_type": "execute_result"
    }
   ],
   "source": [
    "zero_tensor.shape"
   ]
  },
  {
   "cell_type": "code",
   "execution_count": 18,
   "id": "4678efad-1446-4a2c-aaaf-2f5ba38b8189",
   "metadata": {},
   "outputs": [
    {
     "name": "stdout",
     "output_type": "stream",
     "text": [
      "tf.Tensor(3, shape=(), dtype=int32)\n"
     ]
    }
   ],
   "source": [
    "# tf.rank(\n",
    "#     input, name=None\n",
    "# )\n",
    "tensor_5 = tf.constant([\n",
    "    [[1,2,3],[3,3,4]],\n",
    "    [[8,6,8],[5,6,5]],\n",
    "    [[4,5,4],[0,0,0]],\n",
    "])\n",
    "print(tf.rank(tensor_5))"
   ]
  },
  {
   "cell_type": "code",
   "execution_count": 19,
   "id": "cd71e8c9-019c-47cb-b9ad-f52d40c25f56",
   "metadata": {},
   "outputs": [
    {
     "data": {
      "text/plain": [
       "<tf.Tensor: shape=(), dtype=bool, numpy=True>"
      ]
     },
     "execution_count": 19,
     "metadata": {},
     "output_type": "execute_result"
    }
   ],
   "source": [
    "# tf.size(\n",
    "#     input, out_type=None, name=None\n",
    "# )\n",
    "tf.size(tensor_5, out_type=tf.dtypes.bool)  # in which datatype you want the output of size to be in ..."
   ]
  },
  {
   "cell_type": "code",
   "execution_count": 20,
   "id": "477422b5-87d1-4cf8-bf0a-1d95256cd34c",
   "metadata": {},
   "outputs": [
    {
     "data": {
      "text/plain": [
       "<tf.Tensor: shape=(3, 2), dtype=float32, numpy=\n",
       "array([[ 1.4502918 ,  0.20406288],\n",
       "       [-1.6817725 , -0.9881382 ],\n",
       "       [ 0.2972523 , -0.70697296]], dtype=float32)>"
      ]
     },
     "execution_count": 20,
     "metadata": {},
     "output_type": "execute_result"
    }
   ],
   "source": [
    "tf.random.normal(\n",
    "    [3,2],\n",
    "    mean=0.0,\n",
    "    stddev=1.0,\n",
    "    dtype=tf.dtypes.float32,\n",
    "    seed=None,\n",
    "    name=None\n",
    ")"
   ]
  },
  {
   "cell_type": "code",
   "execution_count": 21,
   "id": "7b0e11d9-fd7b-409d-8582-9e92f8c9a96e",
   "metadata": {},
   "outputs": [
    {
     "data": {
      "text/plain": [
       "<tf.Tensor: shape=(4, 4), dtype=float32, numpy=\n",
       "array([[0.9995028 , 0.6449897 , 0.8670044 , 0.01612949],\n",
       "       [0.3193934 , 0.6445205 , 0.5227653 , 0.5001308 ],\n",
       "       [0.22915602, 0.7144408 , 0.91913486, 0.9966564 ],\n",
       "       [0.8947203 , 0.15357864, 0.01683235, 0.20793426]], dtype=float32)>"
      ]
     },
     "execution_count": 21,
     "metadata": {},
     "output_type": "execute_result"
    }
   ],
   "source": [
    "tf.random.uniform(\n",
    "    [4,4],\n",
    "    minval=0,\n",
    "    maxval=None,\n",
    "    dtype=tf.dtypes.float32,\n",
    "    seed=None,\n",
    "    name=None\n",
    ")"
   ]
  },
  {
   "cell_type": "code",
   "execution_count": 22,
   "id": "1683dc49-715e-40ef-ab20-fd90d7303787",
   "metadata": {},
   "outputs": [
    {
     "name": "stdout",
     "output_type": "stream",
     "text": [
      "tf.Tensor([9 3 6], shape=(3,), dtype=int32)\n",
      "tf.Tensor([9 3 2], shape=(3,), dtype=int32)\n",
      "tf.Tensor([1 1 1], shape=(3,), dtype=int32)\n"
     ]
    }
   ],
   "source": [
    "tf.random.set_seed(5)\n",
    "print(tf.random.uniform(shape=[3,], maxval=10, dtype=tf.dtypes.int32, seed=10))\n",
    "print(tf.random.uniform(shape=[3,], maxval=10, dtype=tf.dtypes.int32, seed=10))\n",
    "print(tf.random.uniform(shape=[3,], maxval=10, dtype=tf.dtypes.int32, seed=10))"
   ]
  },
  {
   "cell_type": "code",
   "execution_count": 23,
   "id": "c8973ddf-fc97-4948-a2a6-f38610c47d59",
   "metadata": {},
   "outputs": [
    {
     "name": "stdout",
     "output_type": "stream",
     "text": [
      "tf.Tensor([9 3 6], shape=(3,), dtype=int32)\n",
      "tf.Tensor([9 3 2], shape=(3,), dtype=int32)\n",
      "tf.Tensor([1 1 1], shape=(3,), dtype=int32)\n"
     ]
    }
   ],
   "source": [
    "tf.random.set_seed(5)\n",
    "print(tf.random.uniform(shape=[3,], maxval=10, dtype=tf.dtypes.int32, seed=10))\n",
    "print(tf.random.uniform(shape=[3,], maxval=10, dtype=tf.dtypes.int32, seed=10))\n",
    "print(tf.random.uniform(shape=[3,], maxval=10, dtype=tf.dtypes.int32, seed=10))"
   ]
  },
  {
   "cell_type": "code",
   "execution_count": 24,
   "id": "2d10c1d6-1e89-4bca-8957-d5ddb579d7b4",
   "metadata": {},
   "outputs": [
    {
     "name": "stdout",
     "output_type": "stream",
     "text": [
      "tf.Tensor([0.1689806], shape=(1,), dtype=float32)\n",
      "tf.Tensor([0.7539084], shape=(1,), dtype=float32)\n",
      "tf.Tensor([0.1689806], shape=(1,), dtype=float32)\n",
      "tf.Tensor([0.7539084], shape=(1,), dtype=float32)\n"
     ]
    }
   ],
   "source": [
    "tf.random.set_seed(1234)\n",
    "print(tf.random.uniform([1], seed=1))  # generates 'A1'\n",
    "print(tf.random.uniform([1], seed=1))  # generates 'A2'\n",
    "tf.random.set_seed(1234)\n",
    "print(tf.random.uniform([1], seed=1))  # generates 'A1'\n",
    "print(tf.random.uniform([1], seed=1))  # generates 'A2'"
   ]
  },
  {
   "cell_type": "code",
   "execution_count": 25,
   "id": "e323ddc7-89e2-4423-bf51-1b6a1f7c6612",
   "metadata": {},
   "outputs": [
    {
     "name": "stdout",
     "output_type": "stream",
     "text": [
      "tf.Tensor(\n",
      "[[8 6]\n",
      " [4 5]], shape=(2, 2), dtype=int32)\n"
     ]
    }
   ],
   "source": [
    "tensor_index = tf.constant([\n",
    "    [[1,2,3],[3,3,4]],  # 0\n",
    "    [[8,6,8],[5,6,5]],  # 1\n",
    "    [[4,5,4],[0,0,0]],  # 2\n",
    "])\n",
    "# index(minindex:maxindex+1:step, minindex:maxindex+1:step, minindex:maxindex+1:step)\n",
    "print(tensor_index[1:, 0, :2]) # o/p -> [8,6],[4,5]"
   ]
  },
  {
   "cell_type": "code",
   "execution_count": 26,
   "id": "392ff1c2-eb1d-4656-9957-e5acd226b35a",
   "metadata": {},
   "outputs": [
    {
     "name": "stdout",
     "output_type": "stream",
     "text": [
      "tf.Tensor(\n",
      "[[1 2]\n",
      " [3 5]\n",
      " [1 5]], shape=(3, 2), dtype=int32)\n",
      "tf.Tensor([2 5 5 3], shape=(4,), dtype=int32)\n"
     ]
    }
   ],
   "source": [
    "tensor_9 = tf.constant([[1,2,0],\n",
    "                        [3,5,-1],\n",
    "                        [1,5,6],\n",
    "                        [2,3,8]])     # o/p -> [1,2],[3,5],[1,5]\n",
    "print(tensor_9[:3,:2])\n",
    "print(tensor_9[...,1]) # same as [:,1]"
   ]
  },
  {
   "cell_type": "code",
   "execution_count": 27,
   "id": "f59c19a9-4d4d-4f79-93a6-ad52c4114032",
   "metadata": {},
   "outputs": [
    {
     "data": {
      "text/plain": [
       "<tf.Tensor: shape=(), dtype=int32, numpy=3>"
      ]
     },
     "execution_count": 27,
     "metadata": {},
     "output_type": "execute_result"
    }
   ],
   "source": [
    "# Math function of tensorflow\n",
    "    # abs(x) ->  if x<0  or x>0 then abs(x) == |x|\n",
    "tf.math.abs(\n",
    "    -3, name=None\n",
    ")"
   ]
  },
  {
   "cell_type": "code",
   "execution_count": 28,
   "id": "f09d4fbd-000a-4bf9-ac04-6dd53a98edc1",
   "metadata": {},
   "outputs": [
    {
     "name": "stdout",
     "output_type": "stream",
     "text": [
      "tf.Tensor([ 9 10 11 13 14], shape=(5,), dtype=int32)\n",
      "tf.Tensor([ 9 10 11 13 14], shape=(5,), dtype=int32)\n",
      "tf.Tensor([ 9 10 11 13 14], shape=(5,), dtype=int32)\n"
     ]
    }
   ],
   "source": [
    "# add function for both numbers and matrices\n",
    "a = tf.constant([1,2,3,5,6])\n",
    "b = tf.constant([8])\n",
    "b_stretched = tf.constant([8,8,8,8,8])\n",
    "print(a+b)\n",
    "print(tf.math.add(a,b))\n",
    "print(tf.math.add(a,b_stretched))"
   ]
  },
  {
   "cell_type": "code",
   "execution_count": 29,
   "id": "5aadfb74-4d35-4236-b712-75aa8b0fee86",
   "metadata": {},
   "outputs": [
    {
     "data": {
      "text/plain": [
       "<tf.Tensor: shape=(2,), dtype=int8, numpy=array([-126, -124], dtype=int8)>"
      ]
     },
     "execution_count": 29,
     "metadata": {},
     "output_type": "execute_result"
    }
   ],
   "source": [
    "x = tf.constant([1, 2], dtype=tf.dtypes.int8)   # dtype matters\n",
    "y = [2**7 + 1, 2**7 + 2]\n",
    "tf.add(x, y)"
   ]
  },
  {
   "cell_type": "code",
   "execution_count": 30,
   "id": "28851df3-1890-45bd-91b8-11d28938271b",
   "metadata": {},
   "outputs": [
    {
     "name": "stdout",
     "output_type": "stream",
     "text": [
      "tf.Tensor(\n",
      "[[ 4.  5.  6.  7.  8.]\n",
      " [ 6.  7.  8.  9. 10.]\n",
      " [ 8.  9. 10. 11. 12.]], shape=(3, 5), dtype=float32)\n"
     ]
    }
   ],
   "source": [
    "x_1 = tf.constant([1,2,3,4,5], dtype=tf.float32)  # shape -> (1,5)\n",
    "x_2 = tf.constant([[3],[5],[7]], dtype=tf.float32) # shape -> (3,1)\n",
    "print(tf.math.add(x_1, x_2)) # shape -> (3,5)"
   ]
  },
  {
   "cell_type": "code",
   "execution_count": 31,
   "id": "20a7e84c-a0ad-458b-b298-0da638daa172",
   "metadata": {},
   "outputs": [
    {
     "name": "stdout",
     "output_type": "stream",
     "text": [
      "tf.Tensor([ 4  4 -3 -6 -2  0], shape=(6,), dtype=int32)\n",
      "tf.Tensor([-3 -3 -3 -6 -3 -3], shape=(6,), dtype=int32)\n",
      "tf.Tensor([ 5  5  0  0 -1  4], shape=(6,), dtype=int32)\n"
     ]
    }
   ],
   "source": [
    "a = tf.constant([5,4,-3,-6,-2,4])\n",
    "b = tf.constant([4,5,0,0,-1,0])\n",
    "c = tf.constant([-3])\n",
    "print(tf.math.minimum(a,b))\n",
    "print(tf.math.minimum(a,c))\n",
    "print(tf.math.maximum(a,b))"
   ]
  },
  {
   "cell_type": "code",
   "execution_count": 32,
   "id": "b4fb8477-b50c-435d-a18d-adc9a9f97158",
   "metadata": {},
   "outputs": [
    {
     "name": "stdout",
     "output_type": "stream",
     "text": [
      "tf.Tensor([0 3 3], shape=(3,), dtype=int64)\n",
      "tf.Tensor([0 0 2 0], shape=(4,), dtype=int64)\n"
     ]
    }
   ],
   "source": [
    "# tf.math.argmax(\n",
    "#     input,\n",
    "#     axis=None,\n",
    "#     output_type=tf.dtypes.int64,\n",
    "#     name=None\n",
    "# )\n",
    "x_check = tf.constant([\n",
    "    [4,2,3,1],\n",
    "    [5,6,7,8],\n",
    "    [9,10,1,12],\n",
    "])\n",
    "print(tf.math.argmax(x_check, axis=1))  # provide the index of the maximum element axis wise\n",
    "                                    # axis=0 -> colomn (default)\n",
    "                                    # axis=1 -> row\n",
    "print(tf.math.argmin(x_check))"
   ]
  },
  {
   "cell_type": "code",
   "execution_count": 33,
   "id": "75a867fe-7f1d-4312-bfbd-a5a218e0aecf",
   "metadata": {},
   "outputs": [
    {
     "data": {
      "text/plain": [
       "<tf.Tensor: shape=(), dtype=int32, numpy=8>"
      ]
     },
     "execution_count": 33,
     "metadata": {},
     "output_type": "execute_result"
    }
   ],
   "source": [
    "# tf.math.pow(\n",
    "#     x, y, name=None\n",
    "# )\n",
    "tf.math.pow(2,3)"
   ]
  },
  {
   "cell_type": "code",
   "execution_count": 34,
   "id": "7f756dfb-2812-4069-bbed-2cc45abd6e00",
   "metadata": {},
   "outputs": [
    {
     "name": "stdout",
     "output_type": "stream",
     "text": [
      "tf.Tensor(42.0, shape=(), dtype=float32)\n",
      "tf.Tensor([4. 7. 9.], shape=(3,), dtype=float32)\n",
      "tf.Tensor(2.0, shape=(), dtype=float32)\n",
      "tf.Tensor([[2.]], shape=(1, 1), dtype=float32)\n",
      "tf.Tensor([5.3333335 4.3333335 4.3333335], shape=(3,), dtype=float32)\n",
      "tf.Tensor(362880.0, shape=(), dtype=float32)\n"
     ]
    }
   ],
   "source": [
    "# tf.math.reduce_sum(\n",
    "#     input_tensor, axis=None, keepdims=False, name=None\n",
    "# )\n",
    "tensor_two_d = tf.constant([[2,3,4],\n",
    "                            [5,6,7],\n",
    "                            [9,4,2]], dtype = tf.float32)\n",
    "# when it is none --> sum the whole matrix together\n",
    "# when it is axis is 0 or 1 it returns the axis wise sum\n",
    "print(tf.math.reduce_sum(\n",
    "    tensor_two_d, axis=None, keepdims=False, name=None\n",
    "))\n",
    "\n",
    "print(tf.math.reduce_max(\n",
    "    tensor_two_d, axis=1, keepdims=False, name=None\n",
    "))\n",
    "\n",
    "print(tf.math.reduce_min(\n",
    "    tensor_two_d, axis=None, keepdims=False, name=None\n",
    "))\n",
    "       # keepdims = True\n",
    "print(tf.math.reduce_min(\n",
    "    tensor_two_d, axis=None, keepdims=True, name=None\n",
    "))\n",
    "\n",
    "print(tf.math.reduce_mean(\n",
    "    tensor_two_d, axis=0, keepdims=False, name=None\n",
    "))\n",
    "\n",
    "print(tf.math.reduce_prod(\n",
    "    tensor_two_d, axis=None, keepdims=False, name=None\n",
    "))"
   ]
  },
  {
   "cell_type": "code",
   "execution_count": 35,
   "id": "f17a46e9-a2d2-4e9b-8f49-c4b804413977",
   "metadata": {},
   "outputs": [
    {
     "name": "stdout",
     "output_type": "stream",
     "text": [
      "TopKV2(values=<tf.Tensor: shape=(3, 1), dtype=float32, numpy=\n",
      "array([[4.],\n",
      "       [7.],\n",
      "       [9.]], dtype=float32)>, indices=<tf.Tensor: shape=(3, 1), dtype=int32, numpy=\n",
      "array([[2],\n",
      "       [2],\n",
      "       [0]], dtype=int32)>)\n"
     ]
    }
   ],
   "source": [
    "# tf.math.top_k(\n",
    "#     input,\n",
    "#     k=1,   k -> no of max value you need in each row\n",
    "#     sorted=True,\n",
    "#     index_type=tf.dtypes.int32,\n",
    "#     name=None\n",
    "# )\n",
    "\n",
    "tensor_two_d = tf.constant([[2,3,4],\n",
    "                            [5,6,7],\n",
    "                            [9,4,2]], dtype = tf.float32)\n",
    "print(tf.math.top_k(tensor_two_d, k=1))"
   ]
  },
  {
   "cell_type": "markdown",
   "id": "c87c0ae2-0ccc-4d0f-8af8-ab971e2480f6",
   "metadata": {},
   "source": [
    "numpy=\n",
    "array([[4.],\n",
    "       [7.],\n",
    "       [9.]]]\n",
    "so these are the max values and below are there indices\n",
    "\n",
    "numpy=array([[2],\n",
    "             [2],\n",
    "             [0]], dtype=int32)>)"
   ]
  },
  {
   "cell_type": "code",
   "execution_count": 36,
   "id": "8622e3e3-dd40-4bfe-824b-e98cfef4fe9c",
   "metadata": {},
   "outputs": [
    {
     "name": "stdout",
     "output_type": "stream",
     "text": [
      "tf.Tensor(\n",
      "[[ 7 12 -2  2]\n",
      " [15 29 -9  1]], shape=(2, 4), dtype=int32)\n",
      "tf.Tensor(\n",
      "[[ 7 12 -2  2]\n",
      " [15 29 -9  1]], shape=(2, 4), dtype=int32)\n"
     ]
    }
   ],
   "source": [
    "# matrix multiplication\n",
    "\n",
    "x_1 = tf.constant([[1,2,0],\n",
    "                   [3,5,-1]])   # shape -> (2,3)\n",
    "x_2 = tf.constant([[1,2,0,2],   # x_2 shape must start with 3,anything so shape -> (3,4)\n",
    "                   [3,5,-1,0],\n",
    "                   [3,2,4,5]])\n",
    "\n",
    "print(tf.linalg.matmul(\n",
    "    x_1, x_2,\n",
    "    transpose_a=False,\n",
    "    transpose_b=False,\n",
    "    adjoint_a=False,\n",
    "    adjoint_b=False,\n",
    "    a_is_sparse=False,\n",
    "    b_is_sparse=False,\n",
    "    output_type=None,\n",
    "    name=None\n",
    "))\n",
    "# this matrix multiplication can also be done this way\n",
    "print(x_1@x_2)"
   ]
  },
  {
   "cell_type": "code",
   "execution_count": 37,
   "id": "0f43cdbb-fb69-44a5-9f38-465930274d38",
   "metadata": {},
   "outputs": [
    {
     "name": "stdout",
     "output_type": "stream",
     "text": [
      "tf.Tensor(\n",
      "[[ 1  2  0]\n",
      " [ 3  5 -1]], shape=(2, 3), dtype=int32)\n",
      "tf.Tensor(\n",
      "[[ 1  3]\n",
      " [ 2  5]\n",
      " [ 0 -1]], shape=(3, 2), dtype=int32)\n",
      "\n",
      " tf.Tensor(\n",
      "[[ 1  2  0  2]\n",
      " [ 3  5 -1  0]\n",
      " [ 3  2  4  5]], shape=(3, 4), dtype=int32)\n",
      "tf.Tensor(\n",
      "[[ 1  3  3]\n",
      " [ 2  5  2]\n",
      " [ 0 -1  4]\n",
      " [ 2  0  5]], shape=(4, 3), dtype=int32)\n"
     ]
    }
   ],
   "source": [
    "# transpose of matrix\n",
    "print(x_1)\n",
    "print(tf.transpose(x_1))\n",
    "print(\"\\n\",x_2)\n",
    "print(tf.transpose(x_2))"
   ]
  },
  {
   "cell_type": "code",
   "execution_count": 38,
   "id": "1e556271-cf9c-470e-8d3e-17f54bde5f62",
   "metadata": {},
   "outputs": [
    {
     "name": "stdout",
     "output_type": "stream",
     "text": [
      "tf.Tensor(\n",
      "[[ 7 18  9]\n",
      " [12 31 16]\n",
      " [-2 -5 -2]], shape=(3, 3), dtype=int32)\n",
      "tf.Tensor(\n",
      "[[ 7 18  9]\n",
      " [12 31 16]\n",
      " [-2 -5 -2]], shape=(3, 3), dtype=int32)\n"
     ]
    }
   ],
   "source": [
    "# this transpose thing can be directly done in matmul function ... there while you want to multiply the x_1 with transpose of x_3\n",
    "x_1 = tf.constant([[1,2,0],\n",
    "                   [3,5,-1]])   # shape -> (2,3) ->T ->(3,2)\n",
    "x_3 = tf.constant([[1,2],   # x_3 shape must start with 3,anything so shape -> (3,2) ->T ->(2,3)\n",
    "                   [3,5],\n",
    "                   [3,2]])\n",
    "\n",
    "print(tf.linalg.matmul(\n",
    "    x_1, x_3,\n",
    "    transpose_a=True,\n",
    "    transpose_b=True,   # transpose of matrix x_2\n",
    "    adjoint_a=False,\n",
    "    adjoint_b=False,\n",
    "    a_is_sparse=False,   # if True then faster calculation done by it ... as mostly zero\n",
    "    b_is_sparse=False,\n",
    "    output_type=None,\n",
    "    name=None\n",
    "))\n",
    "print(tf.transpose(x_1)@ tf.transpose(x_3))\n"
   ]
  },
  {
   "cell_type": "code",
   "execution_count": 39,
   "id": "5d32f1c9-4939-4758-89c9-5ca7b8f53fb6",
   "metadata": {},
   "outputs": [
    {
     "name": "stdout",
     "output_type": "stream",
     "text": [
      "tf.Tensor(\n",
      "[[1. 0. 0. 0.]\n",
      " [0. 5. 0. 0.]\n",
      " [0. 0. 6. 0.]\n",
      " [0. 0. 0. 4.]], shape=(4, 4), dtype=float32)\n",
      "tf.Tensor(\n",
      "[[1. 0. 0. 0.]\n",
      " [3. 5. 0. 0.]\n",
      " [1. 5. 6. 0.]\n",
      " [2. 3. 8. 4.]], shape=(4, 4), dtype=float32)\n"
     ]
    }
   ],
   "source": [
    "tensor_two_d = tf.constant([[1,-2,0,3],\n",
    "                            [3,5,100,5],\n",
    "                            [1,5,6,-5],\n",
    "                            [2,3,8,4]], dtype=tf.dtypes.float32\n",
    ")\n",
    " # tf.linalg.band_part(input, 0, -1) ==> Upper triangular part.\n",
    " # tf.linalg.band_part(input, -1, 0) ==> Lower triangular part.\n",
    " # tf.linalg.band_part(input, 0, 0) ==> Diagonal.\n",
    "\n",
    "print(tf.linalg.band_part(tensor_two_d, 0, 0))\n",
    "print(tf.linalg.band_part(tensor_two_d, -1, 0))"
   ]
  },
  {
   "cell_type": "code",
   "execution_count": 40,
   "id": "257ea3eb-7cea-4576-ae9c-5eadaef1279c",
   "metadata": {},
   "outputs": [
    {
     "name": "stdout",
     "output_type": "stream",
     "text": [
      "tf.Tensor(\n",
      "[[ 8.3333337e-01 -1.6829487e-02  4.0716609e-01 -9.5005497e-02]\n",
      " [-3.3333334e-01 -1.4115087e-02 -4.5602597e-02  2.1064061e-01]\n",
      " [ 1.1281635e-09  1.1400650e-02 -1.6286643e-03 -1.6286643e-02]\n",
      " [-1.6666666e-01 -3.8002189e-03 -1.6612376e-01  1.7209554e-01]], shape=(4, 4), dtype=float32)\n"
     ]
    }
   ],
   "source": [
    "print(tf.linalg.inv(tensor_two_d))"
   ]
  },
  {
   "cell_type": "code",
   "execution_count": 42,
   "id": "799c3814-7ba7-4751-aa05-391ab481fcb0",
   "metadata": {},
   "outputs": [],
   "source": [
    "# tf.einsum(\n",
    "#     equation, *inputs, **kwargs\n",
    "# )\n",
    "x_1 = tf.constant([[1,2,0],\n",
    "                   [3,5,-1]])\n",
    "x_3 = tf.constant([[1,2],\n",
    "                   [3,5],\n",
    "                   [3,2]])\n",
    "# tf.einsum(\"\",tensor_two_d)"
   ]
  },
  {
   "cell_type": "code",
   "execution_count": null,
   "id": "bc09a79b-e1ee-41ad-ae03-5255c53541b6",
   "metadata": {},
   "outputs": [],
   "source": []
  }
 ],
 "metadata": {
  "kernelspec": {
   "display_name": "Python 3 (ipykernel)",
   "language": "python",
   "name": "python3"
  },
  "language_info": {
   "codemirror_mode": {
    "name": "ipython",
    "version": 3
   },
   "file_extension": ".py",
   "mimetype": "text/x-python",
   "name": "python",
   "nbconvert_exporter": "python",
   "pygments_lexer": "ipython3",
   "version": "3.12.4"
  }
 },
 "nbformat": 4,
 "nbformat_minor": 5
}
