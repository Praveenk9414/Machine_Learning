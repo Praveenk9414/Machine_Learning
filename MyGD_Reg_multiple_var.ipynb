{
 "cells": [
  {
   "cell_type": "code",
   "execution_count": null,
   "id": "2d7f6ffb-35ac-4f65-897e-340bc70c4fd1",
   "metadata": {},
   "outputs": [],
   "source": [
    "import numpy as np\n",
    "import pandas as pd\n",
    "from sklearn.datasets import load_diabetes\n",
    "from sklearn.linear_model import LinearRegression"
   ]
  },
  {
   "cell_type": "code",
   "execution_count": null,
   "id": "e3e8183b-f3c8-4557-a2f5-6fdd7db1166c",
   "metadata": {},
   "outputs": [],
   "source": [
    "X,y = load_diabetes(return_X_y=True)"
   ]
  },
  {
   "cell_type": "code",
   "execution_count": null,
   "id": "e60d585e-7648-47cb-8fff-881c6182c9f2",
   "metadata": {},
   "outputs": [],
   "source": [
    "X,y = load_diabetes(return_X_y=True)"
   ]
  },
  {
   "cell_type": "code",
   "execution_count": null,
   "id": "d99fb40b-d0c4-4c7f-98f0-3b47f36ca95f",
   "metadata": {},
   "outputs": [],
   "source": [
    "from sklearn.model_selection import train_test_split\n",
    "X_train, X_test, y_train, y_test = train_test_split(X,y, test_size = 0.2, random_state = 2)"
   ]
  },
  {
   "cell_type": "code",
   "execution_count": null,
   "id": "c096a5b7-183a-4660-80f9-7825f058e4a0",
   "metadata": {},
   "outputs": [],
   "source": [
    "print(X_train.shape)\n",
    "print(y_train.shape)"
   ]
  },
  {
   "cell_type": "code",
   "execution_count": null,
   "id": "9eea3e09-dcca-4e60-9a59-c141c5cd40db",
   "metadata": {},
   "outputs": [],
   "source": [
    "reg = LinearRegression()\n",
    "reg.fit(X_train, y_train)"
   ]
  },
  {
   "cell_type": "code",
   "execution_count": null,
   "id": "bf377972-f953-446f-82bc-284b32c88ec4",
   "metadata": {
    "jupyter": {
     "source_hidden": true
    }
   },
   "outputs": [],
   "source": [
    "reg.coef_"
   ]
  },
  {
   "cell_type": "code",
   "execution_count": null,
   "id": "0e0bafcf-aafb-489e-9583-dc0a5e6dcef7",
   "metadata": {},
   "outputs": [],
   "source": [
    "reg.intercept_"
   ]
  },
  {
   "cell_type": "code",
   "execution_count": null,
   "id": "045af421-9b0d-4d04-84f7-5ac90df4b783",
   "metadata": {},
   "outputs": [],
   "source": [
    "print(X_train[0][1])"
   ]
  },
  {
   "cell_type": "code",
   "execution_count": null,
   "id": "7ffc8bcf-1cb1-49d1-9063-5f8220fe65d3",
   "metadata": {},
   "outputs": [],
   "source": [
    "class MyReg:\n",
    "    def __init__(self, epochs, lr):\n",
    "        self.m = None\n",
    "        self.b = None\n",
    "        self.n = epochs\n",
    "        self.lr = lr\n",
    "\n",
    "    def fit(self, X_train, y_train):\n",
    "        self.b = 0\n",
    "        self.m = np.ones(X_train.shape[1])\n",
    "        \n",
    "        for i in range(self.n):\n",
    "            # Calculate intercept_ derivative\n",
    "            y_hat = np.dot(X_train, self.m) + self.b\n",
    "            intercept_der = -2 * np.mean(y_train - y_hat)  # how mean see (sum of terms / no of the terms)  = mean\n",
    "    \n",
    "            # Calculate coef_ derivative\n",
    "            coef_der = -2 * np.dot((y_train - y_hat).T, X_train)/X_train.shape[0]\n",
    "    \n",
    "            # Update weights and bias\n",
    "            self.b = self.b - self.lr * intercept_der\n",
    "            self.m = self.m - self.lr * coef_der\n",
    "    \n",
    "        print(self.b, self.m)\n",
    "    def predict(self, X_test):\n",
    "        y_pred = self.b + X_test@self.m\n",
    "        return y_pred"
   ]
  },
  {
   "cell_type": "code",
   "execution_count": null,
   "id": "0ab6cb2a-5af6-464e-8d2a-8444544cc83e",
   "metadata": {},
   "outputs": [],
   "source": [
    "(X_train.T).shape"
   ]
  },
  {
   "cell_type": "code",
   "execution_count": null,
   "id": "ccfad309-b74d-4291-9aad-9c2c13b5a9cf",
   "metadata": {},
   "outputs": [],
   "source": [
    "print(X_train[0])"
   ]
  },
  {
   "cell_type": "code",
   "execution_count": null,
   "id": "6fddf49b-aa67-4be8-971c-1391103df03a",
   "metadata": {},
   "outputs": [],
   "source": [
    "print(X_train)"
   ]
  },
  {
   "cell_type": "code",
   "execution_count": null,
   "id": "66d72126-bd50-4a93-90e4-ab67a286a543",
   "metadata": {},
   "outputs": [],
   "source": [
    "GD = MyReg(epochs = 1000, lr = 0.5)"
   ]
  },
  {
   "cell_type": "code",
   "execution_count": null,
   "id": "dcc7f7e3-5431-46e7-9cb3-39dc44e6a9a3",
   "metadata": {},
   "outputs": [],
   "source": [
    "GD.fit(X_train, y_train)"
   ]
  },
  {
   "cell_type": "code",
   "execution_count": null,
   "id": "53315444-6312-4d8e-a4f6-f8856a36d850",
   "metadata": {},
   "outputs": [],
   "source": [
    "X_train.shape[0]"
   ]
  },
  {
   "cell_type": "code",
   "execution_count": null,
   "id": "2357e550-b2d5-4d82-ae0c-30092aa9548a",
   "metadata": {},
   "outputs": [],
   "source": [
    "print(X_train)"
   ]
  },
  {
   "cell_type": "code",
   "execution_count": null,
   "id": "a68748ca-f34a-4b8b-859d-455ba62801c4",
   "metadata": {},
   "outputs": [],
   "source": [
    "print(type(X_train))"
   ]
  },
  {
   "cell_type": "code",
   "execution_count": null,
   "id": "500c5b79-e4c3-4380-946f-9a711e649b23",
   "metadata": {},
   "outputs": [],
   "source": [
    "from sklearn.metrics import mean_squared_error, mean_absolute_error,  r2_score"
   ]
  },
  {
   "cell_type": "code",
   "execution_count": null,
   "id": "09ce2929-c342-4309-99bf-5eb39361499c",
   "metadata": {},
   "outputs": [],
   "source": [
    "y_pred = GD.predict(X_test)\n",
    "y_pred.shape\n",
    "print(mean_squared_error(y_test, y_pred))\n",
    "print(mean_absolute_error(y_test, y_pred))\n",
    "print(r2_score(y_test, y_pred))"
   ]
  },
  {
   "cell_type": "code",
   "execution_count": null,
   "id": "bfd551f6-4a3c-41ee-a6c6-e849280b378f",
   "metadata": {},
   "outputs": [],
   "source": [
    "import numpy as np\n",
    "import pandas as pd\n",
    "from sklearn.datasets import load_diabetes\n",
    "from sklearn.linear_model import LinearRegression"
   ]
  },
  {
   "cell_type": "code",
   "execution_count": null,
   "id": "37a4f846-cc4a-44f5-a001-be6930405698",
   "metadata": {},
   "outputs": [],
   "source": [
    "X,y = load_diabetes(return_X_y=True)"
   ]
  },
  {
   "cell_type": "code",
   "execution_count": null,
   "id": "d580b550-476d-4f0a-9203-af8d0847388f",
   "metadata": {},
   "outputs": [],
   "source": [
    "from sklearn.model_selection import train_test_split\n",
    "X_train, X_test, y_train, y_test = train_test_split(X,y, test_size = 0.2, random_state = 2)"
   ]
  },
  {
   "cell_type": "code",
   "execution_count": null,
   "id": "2c385bd1-3ee2-4f8c-82ca-909d7becbd3a",
   "metadata": {},
   "outputs": [],
   "source": [
    "print(X_train.shape)\n",
    "print(y_train.shape)"
   ]
  },
  {
   "cell_type": "code",
   "execution_count": null,
   "id": "476df1a5-6429-4e9b-8782-d71fd30590d9",
   "metadata": {},
   "outputs": [],
   "source": [
    "reg = LinearRegression()\n",
    "reg.fit(X_train, y_train)"
   ]
  },
  {
   "cell_type": "code",
   "execution_count": null,
   "id": "cc53ad8d-076b-4b12-9903-8039117c2253",
   "metadata": {
    "jupyter": {
     "source_hidden": true
    }
   },
   "outputs": [],
   "source": [
    "reg.coef_"
   ]
  },
  {
   "cell_type": "code",
   "execution_count": null,
   "id": "a1009f6b-54d0-4325-974f-e9274d1de01e",
   "metadata": {},
   "outputs": [],
   "source": [
    "reg.intercept_"
   ]
  },
  {
   "cell_type": "code",
   "execution_count": null,
   "id": "89438a3f-cf01-43a2-adf1-460429b55005",
   "metadata": {},
   "outputs": [],
   "source": [
    "print(X_train[0][1])"
   ]
  },
  {
   "cell_type": "code",
   "execution_count": null,
   "id": "aa4e14ed-ef7d-4d86-a272-fc0b712ada4e",
   "metadata": {},
   "outputs": [],
   "source": [
    "class MyReg:\n",
    "    def __init__(self, epochs, lr):\n",
    "        self.m = None\n",
    "        self.b = None\n",
    "        self.n = epochs\n",
    "        self.lr = lr\n",
    "\n",
    "    def fit(self, X_train, y_train):\n",
    "        self.b = 0\n",
    "        self.m = np.ones(X_train.shape[1])\n",
    "        \n",
    "        for i in range(self.n):\n",
    "            # Calculate intercept_ derivative\n",
    "            y_hat = np.dot(X_train, self.m) + self.b\n",
    "            intercept_der = -2 * np.mean(y_train - y_hat)  # how mean see (sum of terms / no of the terms)  = mean\n",
    "    \n",
    "            # Calculate coef_ derivative\n",
    "            coef_der = -2 * np.dot((y_train - y_hat).T, X_train)/X_train.shape[0]\n",
    "    \n",
    "            # Update weights and bias\n",
    "            self.b = self.b - self.lr * intercept_der\n",
    "            self.m = self.m - self.lr * coef_der\n",
    "    \n",
    "        print(self.b, self.m)\n",
    "    def predict(self, X_test):\n",
    "        y_pred = self.b + X_test@self.m\n",
    "        return y_pred"
   ]
  },
  {
   "cell_type": "code",
   "execution_count": null,
   "id": "c06acd48-47e8-4942-b32d-303ead81f2dc",
   "metadata": {},
   "outputs": [],
   "source": [
    "(X_train.T).shape"
   ]
  },
  {
   "cell_type": "code",
   "execution_count": null,
   "id": "97bd1829-a1af-4cd5-8647-f151be5638f6",
   "metadata": {},
   "outputs": [],
   "source": [
    "print(X_train[0])"
   ]
  },
  {
   "cell_type": "code",
   "execution_count": null,
   "id": "3171d489-2e3e-48e7-8ff9-b30a4f27b5cb",
   "metadata": {},
   "outputs": [],
   "source": [
    "print(X_train)"
   ]
  },
  {
   "cell_type": "code",
   "execution_count": null,
   "id": "98ef24b5-3f3d-47c5-94c0-11662ceeecd0",
   "metadata": {},
   "outputs": [],
   "source": [
    "GD = MyReg(epochs = 1000, lr = 0.5)"
   ]
  },
  {
   "cell_type": "code",
   "execution_count": null,
   "id": "8f0f3716-2d2a-4b03-9657-3947f653c448",
   "metadata": {},
   "outputs": [],
   "source": [
    "GD.fit(X_train, y_train)"
   ]
  },
  {
   "cell_type": "code",
   "execution_count": null,
   "id": "bdd59a81-ce22-4216-bcdd-0ef1a75b0a01",
   "metadata": {},
   "outputs": [],
   "source": [
    "X_train.shape[0]"
   ]
  },
  {
   "cell_type": "code",
   "execution_count": null,
   "id": "399a7787-0313-400b-abed-cb66aea9dabf",
   "metadata": {},
   "outputs": [],
   "source": [
    "print(X_train)"
   ]
  },
  {
   "cell_type": "code",
   "execution_count": null,
   "id": "42526013-d27e-4fc0-b0fe-397cdce5f5ce",
   "metadata": {},
   "outputs": [],
   "source": [
    "print(type(X_train))"
   ]
  },
  {
   "cell_type": "code",
   "execution_count": null,
   "id": "47ae538e-06a2-4d05-9ee6-b5801325ed80",
   "metadata": {},
   "outputs": [],
   "source": [
    "from sklearn.metrics import mean_squared_error, mean_absolute_error,  r2_score"
   ]
  },
  {
   "cell_type": "code",
   "execution_count": null,
   "id": "72a46786-7a5c-430a-a292-8a94302df8f7",
   "metadata": {},
   "outputs": [],
   "source": [
    "y_pred = GD.predict(X_test)\n",
    "y_pred.shape\n",
    "print(mean_squared_error(y_test, y_pred))\n",
    "print(mean_absolute_error(y_test, y_pred))\n",
    "print(r2_score(y_test, y_pred))"
   ]
  },
  {
   "cell_type": "code",
   "execution_count": null,
   "id": "c0b0c204-b4a0-48fc-adb1-9773b330124e",
   "metadata": {},
   "outputs": [],
   "source": [
    "import numpy as np\n",
    "import pandas as pd\n",
    "from sklearn.datasets import load_diabetes\n",
    "from sklearn.linear_model import LinearRegression"
   ]
  },
  {
   "cell_type": "code",
   "execution_count": null,
   "id": "edae2488-8c65-439c-b312-98ea9e0d3556",
   "metadata": {},
   "outputs": [],
   "source": [
    "X,y = load_diabetes(return_X_y=True)"
   ]
  },
  {
   "cell_type": "code",
   "execution_count": null,
   "id": "e5577cbe-5813-4560-86e1-f406a3344c60",
   "metadata": {},
   "outputs": [],
   "source": [
    "from sklearn.model_selection import train_test_split\n",
    "X_train, X_test, y_train, y_test = train_test_split(X,y, test_size = 0.2, random_state = 2)"
   ]
  },
  {
   "cell_type": "code",
   "execution_count": null,
   "id": "2f3c87fd-ab1f-4d54-ab2d-8b097e3ba925",
   "metadata": {},
   "outputs": [],
   "source": [
    "print(X_train.shape)\n",
    "print(y_train.shape)"
   ]
  },
  {
   "cell_type": "code",
   "execution_count": null,
   "id": "a15ad37e-2708-482d-bcc3-b7ca8a35cb66",
   "metadata": {},
   "outputs": [],
   "source": [
    "reg = LinearRegression()\n",
    "reg.fit(X_train, y_train)"
   ]
  },
  {
   "cell_type": "code",
   "execution_count": null,
   "id": "bc1ecfd6-f44e-4bfb-bdb5-92a302ace3fd",
   "metadata": {
    "jupyter": {
     "source_hidden": true
    }
   },
   "outputs": [],
   "source": [
    "reg.coef_"
   ]
  },
  {
   "cell_type": "code",
   "execution_count": null,
   "id": "e2d92061-203f-4012-ba48-7be0976f7416",
   "metadata": {},
   "outputs": [],
   "source": [
    "reg.intercept_"
   ]
  },
  {
   "cell_type": "code",
   "execution_count": null,
   "id": "c9f17072-9c8d-40b3-a8a1-24ba752b23bd",
   "metadata": {},
   "outputs": [],
   "source": [
    "print(X_train[0][1])"
   ]
  },
  {
   "cell_type": "code",
   "execution_count": null,
   "id": "7f2cc9af-8570-47ed-b2d2-460276702009",
   "metadata": {},
   "outputs": [],
   "source": [
    "class MyReg:\n",
    "    def __init__(self, epochs, lr):\n",
    "        self.m = None\n",
    "        self.b = None\n",
    "        self.n = epochs\n",
    "        self.lr = lr\n",
    "\n",
    "    def fit(self, X_train, y_train):\n",
    "        self.b = 0\n",
    "        self.m = np.ones(X_train.shape[1])\n",
    "        \n",
    "        for i in range(self.n):\n",
    "            # Calculate intercept_ derivative\n",
    "            y_hat = np.dot(X_train, self.m) + self.b\n",
    "            intercept_der = -2 * np.mean(y_train - y_hat)  # how mean see (sum of terms / no of the terms)  = mean\n",
    "    \n",
    "            # Calculate coef_ derivative\n",
    "            coef_der = -2 * np.dot((y_train - y_hat).T, X_train)/X_train.shape[0]\n",
    "    \n",
    "            # Update weights and bias\n",
    "            self.b = self.b - self.lr * intercept_der\n",
    "            self.m = self.m - self.lr * coef_der\n",
    "    \n",
    "        print(self.b, self.m)\n",
    "    def predict(self, X_test):\n",
    "        y_pred = self.b + X_test@self.m\n",
    "        return y_pred"
   ]
  },
  {
   "cell_type": "code",
   "execution_count": null,
   "id": "b654a8bd-0ccc-48c5-a14b-dff9155136bb",
   "metadata": {},
   "outputs": [],
   "source": [
    "(X_train.T).shape"
   ]
  },
  {
   "cell_type": "code",
   "execution_count": null,
   "id": "64554f10-c07f-438e-8e8b-cb6790fabea4",
   "metadata": {},
   "outputs": [],
   "source": [
    "print(X_train[0])"
   ]
  },
  {
   "cell_type": "code",
   "execution_count": null,
   "id": "45cb23ec-9d2a-405b-b125-0781850bdb5b",
   "metadata": {},
   "outputs": [],
   "source": [
    "print(X_train)"
   ]
  },
  {
   "cell_type": "code",
   "execution_count": null,
   "id": "561ad260-5222-47d2-b4dc-540b91046fd3",
   "metadata": {},
   "outputs": [],
   "source": [
    "GD = MyReg(epochs = 1000, lr = 0.5)"
   ]
  },
  {
   "cell_type": "code",
   "execution_count": null,
   "id": "3864e6fe-08c2-498c-a98d-4e969e78a9f9",
   "metadata": {},
   "outputs": [],
   "source": [
    "GD.fit(X_train, y_train)"
   ]
  },
  {
   "cell_type": "code",
   "execution_count": null,
   "id": "62532ca5-9e59-4a94-91d1-14fc529c82b3",
   "metadata": {},
   "outputs": [],
   "source": [
    "X_train.shape[0]"
   ]
  },
  {
   "cell_type": "code",
   "execution_count": null,
   "id": "679d040c-38b7-4e91-b96d-abd509e53bd5",
   "metadata": {},
   "outputs": [],
   "source": [
    "print(X_train)"
   ]
  },
  {
   "cell_type": "code",
   "execution_count": null,
   "id": "95221f69-d19e-4b20-814a-493a16affb68",
   "metadata": {},
   "outputs": [],
   "source": [
    "print(type(X_train))"
   ]
  },
  {
   "cell_type": "code",
   "execution_count": null,
   "id": "b8bda35c-9e31-4fc8-b171-f00f2953cdc9",
   "metadata": {},
   "outputs": [],
   "source": [
    "from sklearn.metrics import mean_squared_error, mean_absolute_error,  r2_score"
   ]
  },
  {
   "cell_type": "code",
   "execution_count": null,
   "id": "951a7b74-e606-4fda-a882-fd9ffc9c6cd4",
   "metadata": {},
   "outputs": [],
   "source": [
    "y_pred = GD.predict(X_test)\n",
    "y_pred.shape\n",
    "print(mean_squared_error(y_test, y_pred))\n",
    "print(mean_absolute_error(y_test, y_pred))\n",
    "print(r2_score(y_test, y_pred))"
   ]
  },
  {
   "cell_type": "code",
   "execution_count": null,
   "id": "17ecde6f-5cd6-442c-b6a3-511eb8aa88e2",
   "metadata": {},
   "outputs": [],
   "source": []
  },
  {
   "cell_type": "code",
   "execution_count": null,
   "id": "76a754d9-8685-44ef-bc85-52a2bc46d310",
   "metadata": {},
   "outputs": [],
   "source": []
  },
  {
   "cell_type": "code",
   "execution_count": null,
   "id": "2dc2e093-fa10-48bf-848c-de03b340ab76",
   "metadata": {},
   "outputs": [],
   "source": [
    "from sklearn.model_selection import train_test_split\n",
    "X_train, X_test, y_train, y_test = train_test_split(X,y, test_size = 0.2, random_state = 2)"
   ]
  },
  {
   "cell_type": "code",
   "execution_count": null,
   "id": "5593a071-f558-4c47-9133-a8267fc35059",
   "metadata": {},
   "outputs": [],
   "source": [
    "print(X_train.shape)\n",
    "print(y_train.shape)"
   ]
  },
  {
   "cell_type": "code",
   "execution_count": null,
   "id": "d6d4dccd-b38c-40d0-9bad-fb8d63512c37",
   "metadata": {},
   "outputs": [],
   "source": [
    "reg = LinearRegression()\n",
    "reg.fit(X_train, y_train)"
   ]
  },
  {
   "cell_type": "code",
   "execution_count": null,
   "id": "a878fe5b-b379-4560-8fae-86707c686412",
   "metadata": {
    "jupyter": {
     "source_hidden": true
    }
   },
   "outputs": [],
   "source": [
    "reg.coef_"
   ]
  },
  {
   "cell_type": "code",
   "execution_count": null,
   "id": "d72bc132-c61e-41ad-9f72-192e2d87c3cc",
   "metadata": {},
   "outputs": [],
   "source": [
    "reg.intercept_"
   ]
  },
  {
   "cell_type": "code",
   "execution_count": null,
   "id": "a01b3bdd-8172-459d-94e1-f2ade96b3a1b",
   "metadata": {},
   "outputs": [],
   "source": [
    "print(X_train[0][1])"
   ]
  },
  {
   "cell_type": "code",
   "execution_count": null,
   "id": "6e6fe026-33bf-4bea-9eb3-affc4addc0c4",
   "metadata": {},
   "outputs": [],
   "source": [
    "class MyReg:\n",
    "    def __init__(self, epochs, lr):\n",
    "        self.m = None\n",
    "        self.b = None\n",
    "        self.n = epochs\n",
    "        self.lr = lr\n",
    "\n",
    "    def fit(self, X_train, y_train):\n",
    "        self.b = 0\n",
    "        self.m = np.ones(X_train.shape[1])\n",
    "        \n",
    "        for i in range(self.n):\n",
    "            # Calculate intercept_ derivative\n",
    "            y_hat = np.dot(X_train, self.m) + self.b\n",
    "            intercept_der = -2 * np.mean(y_train - y_hat)  # how mean see (sum of terms / no of the terms)  = mean\n",
    "    \n",
    "            # Calculate coef_ derivative\n",
    "            coef_der = -2 * np.dot((y_train - y_hat).T, X_train)/X_train.shape[0]\n",
    "    \n",
    "            # Update weights and bias\n",
    "            self.b = self.b - self.lr * intercept_der\n",
    "            self.m = self.m - self.lr * coef_der\n",
    "    \n",
    "        print(self.b, self.m)\n",
    "    def predict(self, X_test):\n",
    "        y_pred = self.b + X_test@self.m\n",
    "        return y_pred"
   ]
  },
  {
   "cell_type": "code",
   "execution_count": null,
   "id": "94ab3714-8793-4c90-a243-3d68c4d7243d",
   "metadata": {},
   "outputs": [],
   "source": [
    "(X_train.T).shape"
   ]
  },
  {
   "cell_type": "code",
   "execution_count": null,
   "id": "550aae48-19e1-4ecf-8e13-63f0b4cd8a49",
   "metadata": {},
   "outputs": [],
   "source": [
    "print(X_train[0])"
   ]
  },
  {
   "cell_type": "code",
   "execution_count": null,
   "id": "29901785-1e4e-4ba7-a433-6b2c240e3600",
   "metadata": {},
   "outputs": [],
   "source": [
    "print(X_train)"
   ]
  },
  {
   "cell_type": "code",
   "execution_count": null,
   "id": "62a01f36-b141-4d64-8e50-089ef1e6d115",
   "metadata": {},
   "outputs": [],
   "source": [
    "GD = MyReg(epochs = 1000, lr = 0.5)"
   ]
  },
  {
   "cell_type": "code",
   "execution_count": null,
   "id": "e5fdfeda-9390-49ef-968b-8e5e2a7d4477",
   "metadata": {},
   "outputs": [],
   "source": [
    "GD.fit(X_train, y_train)"
   ]
  },
  {
   "cell_type": "code",
   "execution_count": null,
   "id": "a8bfdd16-ce40-44dd-a8be-49a7c09ecead",
   "metadata": {},
   "outputs": [],
   "source": [
    "X_train.shape[0]"
   ]
  },
  {
   "cell_type": "code",
   "execution_count": null,
   "id": "5de0c73e-0636-416f-81e7-19ee2f7dbbe6",
   "metadata": {},
   "outputs": [],
   "source": [
    "print(X_train)"
   ]
  },
  {
   "cell_type": "code",
   "execution_count": null,
   "id": "18dfa624-a85b-4e71-b81b-4ad9f2152454",
   "metadata": {},
   "outputs": [],
   "source": [
    "print(type(X_train))"
   ]
  },
  {
   "cell_type": "code",
   "execution_count": null,
   "id": "bc209fe0-2367-4591-81be-302e42eafebc",
   "metadata": {},
   "outputs": [],
   "source": [
    "from sklearn.metrics import mean_squared_error, mean_absolute_error,  r2_score"
   ]
  },
  {
   "cell_type": "code",
   "execution_count": null,
   "id": "6b9dc1d0-d93f-4cfe-9c6a-0f868665f38c",
   "metadata": {},
   "outputs": [],
   "source": [
    "y_pred = GD.predict(X_test)\n",
    "y_pred.shape\n",
    "print(mean_squared_error(y_test, y_pred))\n",
    "print(mean_absolute_error(y_test, y_pred))\n",
    "print(r2_score(y_test, y_pred))"
   ]
  },
  {
   "cell_type": "code",
   "execution_count": null,
   "id": "fec98580-990d-47fc-9e48-4cb783ab320d",
   "metadata": {},
   "outputs": [],
   "source": [
    "import numpy as np\n",
    "import pandas as pd\n",
    "from sklearn.datasets import load_diabetes\n",
    "from sklearn.linear_model import LinearRegression"
   ]
  },
  {
   "cell_type": "code",
   "execution_count": null,
   "id": "5714b60d-1675-46cd-8433-a57a493042cf",
   "metadata": {},
   "outputs": [],
   "source": [
    "X,y = load_diabetes(return_X_y=True)"
   ]
  },
  {
   "cell_type": "code",
   "execution_count": null,
   "id": "d428c8b1-513f-4748-a1c9-62d6982b4561",
   "metadata": {},
   "outputs": [],
   "source": [
    "from sklearn.model_selection import train_test_split\n",
    "X_train, X_test, y_train, y_test = train_test_split(X,y, test_size = 0.2, random_state = 2)"
   ]
  },
  {
   "cell_type": "code",
   "execution_count": null,
   "id": "878ecde7-780a-42e3-bd80-b0926bd3fbff",
   "metadata": {},
   "outputs": [],
   "source": [
    "print(X_train.shape)\n",
    "print(y_train.shape)"
   ]
  },
  {
   "cell_type": "code",
   "execution_count": null,
   "id": "a8fe794e-e7d6-4eb6-8769-ad34427831c1",
   "metadata": {},
   "outputs": [],
   "source": [
    "reg = LinearRegression()\n",
    "reg.fit(X_train, y_train)"
   ]
  },
  {
   "cell_type": "code",
   "execution_count": null,
   "id": "210cb750-7f62-41d1-913c-e62dd00ab946",
   "metadata": {
    "jupyter": {
     "source_hidden": true
    }
   },
   "outputs": [],
   "source": [
    "reg.coef_"
   ]
  },
  {
   "cell_type": "code",
   "execution_count": null,
   "id": "c571c87f-1eb9-4b08-bd2f-c0e9e06f7bcb",
   "metadata": {},
   "outputs": [],
   "source": [
    "reg.intercept_"
   ]
  },
  {
   "cell_type": "code",
   "execution_count": null,
   "id": "7dc33b40-59be-4401-98a3-b248004f1c50",
   "metadata": {},
   "outputs": [],
   "source": [
    "print(X_train[0][1])"
   ]
  },
  {
   "cell_type": "code",
   "execution_count": null,
   "id": "9640cd47-7e15-4368-b935-c677a227584c",
   "metadata": {},
   "outputs": [],
   "source": [
    "class MyReg:\n",
    "    def __init__(self, epochs, lr):\n",
    "        self.m = None\n",
    "        self.b = None\n",
    "        self.n = epochs\n",
    "        self.lr = lr\n",
    "\n",
    "    def fit(self, X_train, y_train):\n",
    "        self.b = 0\n",
    "        self.m = np.ones(X_train.shape[1])\n",
    "        \n",
    "        for i in range(self.n):\n",
    "            # Calculate intercept_ derivative\n",
    "            y_hat = np.dot(X_train, self.m) + self.b\n",
    "            intercept_der = -2 * np.mean(y_train - y_hat)  # how mean see (sum of terms / no of the terms)  = mean\n",
    "    \n",
    "            # Calculate coef_ derivative\n",
    "            coef_der = -2 * np.dot((y_train - y_hat).T, X_train)/X_train.shape[0]\n",
    "    \n",
    "            # Update weights and bias\n",
    "            self.b = self.b - self.lr * intercept_der\n",
    "            self.m = self.m - self.lr * coef_der\n",
    "    \n",
    "        print(self.b, self.m)\n",
    "    def predict(self, X_test):\n",
    "        y_pred = self.b + X_test@self.m\n",
    "        return y_pred"
   ]
  },
  {
   "cell_type": "code",
   "execution_count": null,
   "id": "9049faba-3c10-4342-8bd3-7ddb853a2749",
   "metadata": {},
   "outputs": [],
   "source": [
    "(X_train.T).shape"
   ]
  },
  {
   "cell_type": "code",
   "execution_count": null,
   "id": "ff9fcd3c-d2c9-4728-a886-74e7626139db",
   "metadata": {},
   "outputs": [],
   "source": [
    "print(X_train[0])"
   ]
  },
  {
   "cell_type": "code",
   "execution_count": null,
   "id": "b58c1c35-baf2-4959-8d32-cd9b8659a981",
   "metadata": {},
   "outputs": [],
   "source": [
    "print(X_train)"
   ]
  },
  {
   "cell_type": "code",
   "execution_count": null,
   "id": "326bd029-9cbf-4f5f-bba2-478c1d9978e6",
   "metadata": {},
   "outputs": [],
   "source": [
    "GD = MyReg(epochs = 1000, lr = 0.5)"
   ]
  },
  {
   "cell_type": "code",
   "execution_count": null,
   "id": "ffc6a589-7a14-4b55-8f7e-686065c63fbe",
   "metadata": {},
   "outputs": [],
   "source": [
    "GD.fit(X_train, y_train)"
   ]
  },
  {
   "cell_type": "code",
   "execution_count": null,
   "id": "29bd8642-1955-4aa4-8f81-f81f12788b64",
   "metadata": {},
   "outputs": [],
   "source": [
    "X_train.shape[0]"
   ]
  },
  {
   "cell_type": "code",
   "execution_count": null,
   "id": "5804824d-6dfb-4738-b4cd-3d47610f46d5",
   "metadata": {},
   "outputs": [],
   "source": [
    "print(X_train)"
   ]
  },
  {
   "cell_type": "code",
   "execution_count": null,
   "id": "c1b8964b-8d99-4461-829a-36d399d4709e",
   "metadata": {},
   "outputs": [],
   "source": [
    "print(type(X_train))"
   ]
  },
  {
   "cell_type": "code",
   "execution_count": null,
   "id": "069b5ef1-56ee-4b71-9a2a-5d0236661b6a",
   "metadata": {},
   "outputs": [],
   "source": [
    "from sklearn.metrics import mean_squared_error, mean_absolute_error,  r2_score"
   ]
  },
  {
   "cell_type": "code",
   "execution_count": null,
   "id": "04bf5e10-d3d5-4110-b724-844602ec8f34",
   "metadata": {},
   "outputs": [],
   "source": [
    "y_pred = GD.predict(X_test)\n",
    "y_pred.shape\n",
    "print(mean_squared_error(y_test, y_pred))\n",
    "print(mean_absolute_error(y_test, y_pred))\n",
    "print(r2_score(y_test, y_pred))"
   ]
  },
  {
   "cell_type": "code",
   "execution_count": null,
   "id": "2c87b29d-1aef-413c-885d-91df237be296",
   "metadata": {},
   "outputs": [],
   "source": [
    "import numpy as np\n",
    "import pandas as pd\n",
    "from sklearn.datasets import load_diabetes\n",
    "from sklearn.linear_model import LinearRegression"
   ]
  },
  {
   "cell_type": "code",
   "execution_count": null,
   "id": "9e4c0fdb-e5ef-4320-bda9-c0b83fa50c70",
   "metadata": {},
   "outputs": [],
   "source": [
    "X,y = load_diabetes(return_X_y=True)"
   ]
  },
  {
   "cell_type": "code",
   "execution_count": null,
   "id": "6a43398d-0b67-4261-a5d4-ea6e44eb70c9",
   "metadata": {},
   "outputs": [],
   "source": [
    "from sklearn.model_selection import train_test_split\n",
    "X_train, X_test, y_train, y_test = train_test_split(X,y, test_size = 0.2, random_state = 2)"
   ]
  },
  {
   "cell_type": "code",
   "execution_count": null,
   "id": "13a15fe2-ba99-4fec-aaeb-38cf61d9c4e0",
   "metadata": {},
   "outputs": [],
   "source": [
    "print(X_train.shape)\n",
    "print(y_train.shape)"
   ]
  },
  {
   "cell_type": "code",
   "execution_count": null,
   "id": "546441ae-6cd5-4724-b034-f89b55862ef1",
   "metadata": {},
   "outputs": [],
   "source": [
    "reg = LinearRegression()\n",
    "reg.fit(X_train, y_train)"
   ]
  },
  {
   "cell_type": "code",
   "execution_count": null,
   "id": "9266cd2b-1922-4e99-aab0-a73d4646e44f",
   "metadata": {
    "jupyter": {
     "source_hidden": true
    }
   },
   "outputs": [],
   "source": [
    "reg.coef_"
   ]
  },
  {
   "cell_type": "code",
   "execution_count": null,
   "id": "bce95373-88dc-4514-9ad7-c7549b9da9c9",
   "metadata": {},
   "outputs": [],
   "source": [
    "reg.intercept_"
   ]
  },
  {
   "cell_type": "code",
   "execution_count": null,
   "id": "6045ee7b-abd7-4b1b-99dd-f7f6fe1b3b8c",
   "metadata": {},
   "outputs": [],
   "source": [
    "print(X_train[0][1])"
   ]
  },
  {
   "cell_type": "code",
   "execution_count": null,
   "id": "8ec52566-8edf-4588-ae03-4ab62b60cdb0",
   "metadata": {},
   "outputs": [],
   "source": [
    "class MyReg:\n",
    "    def __init__(self, epochs, lr):\n",
    "        self.m = None\n",
    "        self.b = None\n",
    "        self.n = epochs\n",
    "        self.lr = lr\n",
    "\n",
    "    def fit(self, X_train, y_train):\n",
    "        self.b = 0\n",
    "        self.m = np.ones(X_train.shape[1])\n",
    "        \n",
    "        for i in range(self.n):\n",
    "            # Calculate intercept_ derivative\n",
    "            y_hat = np.dot(X_train, self.m) + self.b\n",
    "            intercept_der = -2 * np.mean(y_train - y_hat)  # how mean see (sum of terms / no of the terms)  = mean\n",
    "    \n",
    "            # Calculate coef_ derivative\n",
    "            coef_der = -2 * np.dot((y_train - y_hat).T, X_train)/X_train.shape[0]\n",
    "    \n",
    "            # Update weights and bias\n",
    "            self.b = self.b - self.lr * intercept_der\n",
    "            self.m = self.m - self.lr * coef_der\n",
    "    \n",
    "        print(self.b, self.m)\n",
    "    def predict(self, X_test):\n",
    "        y_pred = self.b + X_test@self.m\n",
    "        return y_pred"
   ]
  },
  {
   "cell_type": "code",
   "execution_count": null,
   "id": "2040288d-493b-4d93-b240-a41c351afb91",
   "metadata": {},
   "outputs": [],
   "source": [
    "(X_train.T).shape"
   ]
  },
  {
   "cell_type": "code",
   "execution_count": null,
   "id": "3e167102-da8e-4ec2-9dff-f25a872a8fe5",
   "metadata": {},
   "outputs": [],
   "source": [
    "print(X_train[0])"
   ]
  },
  {
   "cell_type": "code",
   "execution_count": null,
   "id": "8c861e80-d162-421c-b4f3-7b7c6e706a7a",
   "metadata": {},
   "outputs": [],
   "source": [
    "print(X_train)"
   ]
  },
  {
   "cell_type": "code",
   "execution_count": null,
   "id": "7b6ad932-fe88-4db4-994e-725ead463bf3",
   "metadata": {},
   "outputs": [],
   "source": [
    "GD = MyReg(epochs = 1000, lr = 0.5)"
   ]
  },
  {
   "cell_type": "code",
   "execution_count": null,
   "id": "b0286d70-f2fa-4761-a5cc-ecf014ed26b3",
   "metadata": {},
   "outputs": [],
   "source": [
    "GD.fit(X_train, y_train)"
   ]
  },
  {
   "cell_type": "code",
   "execution_count": null,
   "id": "aaa13728-0743-4992-b22c-2b77b25d953b",
   "metadata": {},
   "outputs": [],
   "source": [
    "X_train.shape[0]"
   ]
  },
  {
   "cell_type": "code",
   "execution_count": null,
   "id": "80a9a92d-a4ca-4f66-97e6-83af61ff8865",
   "metadata": {},
   "outputs": [],
   "source": [
    "print(X_train)"
   ]
  },
  {
   "cell_type": "code",
   "execution_count": null,
   "id": "8d85e38b-6fbf-4dce-8076-8f448c8efe72",
   "metadata": {},
   "outputs": [],
   "source": [
    "print(type(X_train))"
   ]
  },
  {
   "cell_type": "code",
   "execution_count": null,
   "id": "2c93bce5-c912-4b60-8176-0b2e940b64c6",
   "metadata": {},
   "outputs": [],
   "source": [
    "from sklearn.metrics import mean_squared_error, mean_absolute_error,  r2_score"
   ]
  },
  {
   "cell_type": "code",
   "execution_count": null,
   "id": "2d1de66c-b583-4ecd-aee8-64963a3a1622",
   "metadata": {},
   "outputs": [],
   "source": [
    "y_pred = GD.predict(X_test)\n",
    "y_pred.shape\n",
    "print(mean_squared_error(y_test, y_pred))\n",
    "print(mean_absolute_error(y_test, y_pred))\n",
    "print(r2_score(y_test, y_pred))"
   ]
  },
  {
   "cell_type": "code",
   "execution_count": null,
   "id": "928ea282-5f3d-4a50-a2b0-c2f05b93ec8a",
   "metadata": {},
   "outputs": [],
   "source": []
  },
  {
   "cell_type": "code",
   "execution_count": null,
   "id": "6b023c2b-aea1-401c-86d9-63089e7649f1",
   "metadata": {},
   "outputs": [],
   "source": []
  }
 ],
 "metadata": {
  "kernelspec": {
   "display_name": "Python 3 (ipykernel)",
   "language": "python",
   "name": "python3"
  },
  "language_info": {
   "codemirror_mode": {
    "name": "ipython",
    "version": 3
   },
   "file_extension": ".py",
   "mimetype": "text/x-python",
   "name": "python",
   "nbconvert_exporter": "python",
   "pygments_lexer": "ipython3",
   "version": "3.10.13"
  }
 },
 "nbformat": 4,
 "nbformat_minor": 5
}
